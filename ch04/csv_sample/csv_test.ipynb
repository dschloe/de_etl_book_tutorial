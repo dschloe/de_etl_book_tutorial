{
 "cells": [
  {
   "cell_type": "markdown",
   "id": "ef34fbe9-7824-40a8-98d4-1e13a5c5637d",
   "metadata": {},
   "source": [
    "# 주요 라이브러리"
   ]
  },
  {
   "cell_type": "code",
   "execution_count": 6,
   "id": "5a0e4624-a8b0-4fb2-852d-46ee753787e1",
   "metadata": {},
   "outputs": [],
   "source": [
    "import csv                          # CSV 파일 읽기/쓰기 위한 표준 모듈\n",
    "import random                       # 난수 생성 (샘플 데이터 생성 시 활용)\n",
    "import os                           # 파일 존재 여부 확인 등 OS 제어\n",
    "import time                         # 시간 측정용 모듈\n",
    "import pandas as pd                # 데이터프레임 기반 분석 (범용성 높음)\n",
    "import polars as pl                # 고속 DataFrame 라이브러리 (Rust 기반)\n",
    "from multiprocessing import Pool, cpu_count  # 병렬 처리용 프로세스 풀, CPU 수 확인\n",
    "from io import StringIO            # 문자열을 파일 객체처럼 다룰 수 있음\n",
    "import matplotlib.pyplot as plt    # 시각화를 위한 그래프 라이브러리\n",
    "import numpy as np                 # 수치 계산용 (현재 사용되지 않지만 보조적으로 활용 가능)\n",
    "import gc                          # 가비지 컬렉션 (메모리 수동 해제)"
   ]
  },
  {
   "cell_type": "markdown",
   "id": "22479622-2369-4835-b1fa-09b55c60fff5",
   "metadata": {},
   "source": [
    "# 예제 데이터 준비"
   ]
  },
  {
   "cell_type": "code",
   "execution_count": 9,
   "id": "6f100cf6-3a4b-40af-b276-0239975ef2f1",
   "metadata": {},
   "outputs": [
    {
     "name": "stdout",
     "output_type": "stream",
     "text": [
      "large_data.csv 파일 생성 중...\n",
      "1000000 줄 작성 완료...\n",
      "2000000 줄 작성 완료...\n",
      "3000000 줄 작성 완료...\n",
      "4000000 줄 작성 완료...\n",
      "5000000 줄 작성 완료...\n",
      "large_data.csv 파일 생성 완료. 소요 시간: 21.96 초\n"
     ]
    }
   ],
   "source": [
    "file_name = \"large_data.csv\"       # 생성할 CSV 파일 이름\n",
    "num_rows = 5_000_000               # 500만 줄\n",
    "num_columns = 10                   # 열은 10개\n",
    "headers = [f\"col_{i}\" for i in range(num_columns)]  # 열 이름 리스트 생성\n",
    "\n",
    "# 파일이 없을 때만 새로 생성\n",
    "if not os.path.exists(file_name):\n",
    "    print(f\"{file_name} 파일 생성 중...\")\n",
    "    start_gen = time.time()\n",
    "    \n",
    "    with open(file_name, 'w', newline='', encoding='utf-8') as f:\n",
    "        writer = csv.writer(f)\n",
    "        writer.writerow(headers)  # 헤더 작성\n",
    "\n",
    "        for i in range(num_rows):\n",
    "            # 짝수열: 문자열, 홀수열: 무작위 숫자\n",
    "            row = [f\"value_{i}_{j}\" if j % 2 == 0 else random.randint(1, 1000000) for j in range(num_columns)]\n",
    "            writer.writerow(row)\n",
    "\n",
    "            # 상태 출력 (100만 줄마다)\n",
    "            if (i + 1) % 1_000_000 == 0:\n",
    "                print(f\"{i + 1} 줄 작성 완료...\")\n",
    "\n",
    "    end_gen = time.time()\n",
    "    print(f\"{file_name} 파일 생성 완료. 소요 시간: {end_gen - start_gen:.2f} 초\")\n",
    "\n",
    "else:\n",
    "    print(f\"'{file_name}' 파일이 이미 존재합니다. 다시 생성하지 않습니다.\")"
   ]
  },
  {
   "cell_type": "markdown",
   "id": "ab431f66-faa0-4d50-be74-2edbeb20d026",
   "metadata": {},
   "source": [
    "# CSV 추출 속도 측정 함수"
   ]
  },
  {
   "cell_type": "code",
   "execution_count": 10,
   "id": "a8d7a8f5-4cd9-43bf-9d64-819d1eb07774",
   "metadata": {},
   "outputs": [],
   "source": [
    "# (2-1) 순차 처리 방식 (단일 스레드)\n",
    "def read_csv_sequential(file_path):\n",
    "    \"\"\"csv 모듈로 CSV 파일을 순차적으로 읽기\"\"\"\n",
    "    data = []\n",
    "    with open(file_path, 'r', encoding='utf-8') as f:\n",
    "        reader = csv.reader(f)\n",
    "        header = next(reader)  # 헤더 건너뜀\n",
    "        for row in reader:\n",
    "            data.append(row)\n",
    "    return data\n",
    "\n",
    "\n",
    "# (2-2) 병렬 처리용 CSV 청크 처리 함수\n",
    "def process_csv_chunk(chunk_lines):\n",
    "    \"\"\"청크 데이터를 받아 첫 번째 컬럼을 대문자로 변환 후 반환\"\"\"\n",
    "    processed_rows = []\n",
    "    f = StringIO('\\n'.join(chunk_lines))  # 리스트를 하나의 문자열로 묶어 파일처럼 처리\n",
    "    reader = csv.reader(f)\n",
    "    for row in reader:\n",
    "        if row:\n",
    "            processed_rows.append([row[0].upper()] + row[1:])\n",
    "    return processed_rows\n",
    "\n",
    "\n",
    "# (2-2) 멀티프로세싱 방식으로 병렬 CSV 처리\n",
    "def read_csv_parallel_multiprocessing(file_path, chunk_size_lines=100000):\n",
    "    \"\"\"파일을 청크 단위로 나눠 멀티프로세싱으로 처리\"\"\"\n",
    "    all_data = []           # 최종 결과 저장 리스트\n",
    "    pool = Pool(cpu_count())  # 사용 가능한 모든 CPU로 풀 생성\n",
    "\n",
    "    temp_lines = []         # 청크 단위로 임시 저장\n",
    "    line_count = 0\n",
    "    with open(file_path, 'r', encoding='utf-8') as f:\n",
    "        header = next(f)  # 첫 줄(헤더) 스킵\n",
    "\n",
    "        for line in f:\n",
    "            temp_lines.append(line.strip())\n",
    "            line_count += 1\n",
    "            if line_count % chunk_size_lines == 0:\n",
    "                # 청크를 병렬 처리로 전송\n",
    "                all_data.append(pool.apply_async(process_csv_chunk, (temp_lines,)))\n",
    "                temp_lines = []\n",
    "\n",
    "        # 마지막 청크 처리\n",
    "        if temp_lines:\n",
    "            all_data.append(pool.apply_async(process_csv_chunk, (temp_lines,)))\n",
    "\n",
    "    pool.close()\n",
    "    pool.join()\n",
    "\n",
    "    # 각 프로세스 결과 수집\n",
    "    final_processed_data = []\n",
    "    for result in all_data:\n",
    "        final_processed_data.extend(result.get())\n",
    "\n",
    "    return final_processed_data"
   ]
  },
  {
   "cell_type": "markdown",
   "id": "126fcc87-6376-4f9f-b2e2-702db26cf26f",
   "metadata": {},
   "source": [
    "# 각 방식별 시간 측정 및 출력"
   ]
  },
  {
   "cell_type": "code",
   "execution_count": 11,
   "id": "0d7029b0-7562-4402-9b4b-979fa862bc71",
   "metadata": {},
   "outputs": [
    {
     "name": "stdout",
     "output_type": "stream",
     "text": [
      "--- 단일 스레드 CSV 추출 (csv 모듈) 시작 ---\n",
      "단일 스레드 (csv 모듈) 추출 완료. 총 5000000 줄, 소요 시간: 10.83 초\n",
      "\n",
      "--- 멀티프로세싱 CSV 추출 (multiprocessing + csv 모듈) 시작 ---\n",
      "멀티프로세싱 (csv 모듈) 추출 완료. 총 5000000 줄, 소요 시간: 16.02 초\n",
      "\n",
      "--- Pandas를 이용한 CSV 추출 시작 ---\n",
      "Pandas 추출 완료. 총 5000000 줄, 소요 시간: 7.11 초\n",
      "\n",
      "--- Polars를 이용한 CSV 추출 시작 ---\n",
      "Polars 추출 완료. 총 5000000 줄, 소요 시간: 0.20 초\n"
     ]
    }
   ],
   "source": [
    "# 결과 저장 변수 초기화\n",
    "sequential_time = 0\n",
    "multiprocessing_time = 0\n",
    "pandas_time = 0\n",
    "polars_time = 0\n",
    "file_name = \"large_data.csv\"       # 불러올 CSV 파일 이름\n",
    "\n",
    "if os.path.exists(file_name):\n",
    "\n",
    "    # 🔸 (3-1) 단일 스레드 방식\n",
    "    print(\"--- 단일 스레드 CSV 추출 (csv 모듈) 시작 ---\")\n",
    "    start_time = time.time()\n",
    "    extracted_data_sequential = read_csv_sequential(file_name)\n",
    "    end_time = time.time()\n",
    "    sequential_time = end_time - start_time\n",
    "    print(f\"단일 스레드 (csv 모듈) 추출 완료. 총 {len(extracted_data_sequential)} 줄, 소요 시간: {sequential_time:.2f} 초\")\n",
    "    del extracted_data_sequential  # 메모리 정리\n",
    "    gc.collect()\n",
    "\n",
    "    # 🔸 (3-2) 멀티프로세싱 방식\n",
    "    print(\"\\n--- 멀티프로세싱 CSV 추출 (multiprocessing + csv 모듈) 시작 ---\")\n",
    "    start_time = time.time()\n",
    "    extracted_data_parallel_mp = read_csv_parallel_multiprocessing(file_name)\n",
    "    end_time = time.time()\n",
    "    multiprocessing_time = end_time - start_time\n",
    "    print(f\"멀티프로세싱 (csv 모듈) 추출 완료. 총 {len(extracted_data_parallel_mp)} 줄, 소요 시간: {multiprocessing_time:.2f} 초\")\n",
    "    del extracted_data_parallel_mp\n",
    "    gc.collect()\n",
    "\n",
    "    # 🔸 (3-3) pandas 활용\n",
    "    print(\"\\n--- Pandas를 이용한 CSV 추출 시작 ---\")\n",
    "    start_time = time.time()\n",
    "    df_pandas = pd.read_csv(file_name)\n",
    "    end_time = time.time()\n",
    "    pandas_time = end_time - start_time\n",
    "    print(f\"Pandas 추출 완료. 총 {len(df_pandas)} 줄, 소요 시간: {pandas_time:.2f} 초\")\n",
    "    del df_pandas\n",
    "    gc.collect()\n",
    "\n",
    "    # 🔸 (3-4) polars 활용\n",
    "    print(\"\\n--- Polars를 이용한 CSV 추출 시작 ---\")\n",
    "    start_time = time.time()\n",
    "    df_polars = pl.read_csv(file_name)\n",
    "    end_time = time.time()\n",
    "    polars_time = end_time - start_time\n",
    "    print(f\"Polars 추출 완료. 총 {len(df_polars)} 줄, 소요 시간: {polars_time:.2f} 초\")\n",
    "    del df_polars\n",
    "    gc.collect()\n",
    "\n",
    "else:\n",
    "    print(f\"'{file_name}' 파일이 없습니다. 먼저 파일을 생성해주세요.\")\n"
   ]
  },
  {
   "cell_type": "markdown",
   "id": "65411872-fe9c-4408-95ab-5cbf0c39e3e2",
   "metadata": {},
   "source": [
    "# 추출 속도 비교 시각화"
   ]
  },
  {
   "cell_type": "code",
   "execution_count": 12,
   "id": "b00a6465-1f4d-4f60-a66e-9da79b0466bb",
   "metadata": {},
   "outputs": [
    {
     "data": {
      "image/png": "[encoded data removed]",
      "text/plain": [
       "<Figure size 1000x600 with 1 Axes>"
      ]
     },
     "metadata": {},
     "output_type": "display_data"
    }
   ],
   "source": [
    "# x축 레이블\n",
    "labels_csv = ['csv (Sequential)', 'multiprocessing (csv)', 'Pandas', 'Polars']\n",
    "# 각각의 실행 시간\n",
    "times_csv = [sequential_time, multiprocessing_time, pandas_time, polars_time]\n",
    "\n",
    "# 모든 시간이 측정되었을 경우에만 시각화 진행\n",
    "if all(time_val > 0 for time_val in times_csv):\n",
    "    fig1, ax1 = plt.subplots(figsize=(10, 6))\n",
    "    \n",
    "    # 막대그래프 생성\n",
    "    bars1 = ax1.bar(labels_csv, times_csv, color=['skyblue', 'lightcoral', 'lightgreen', 'gold'])\n",
    "    \n",
    "    ax1.set_ylabel('Time (seconds)')\n",
    "    ax1.set_title('CSV Data Extraction Time Comparison (Lower is Better)')\n",
    "    ax1.set_ylim(0, max(times_csv) * 1.2)  # 여유 있게 y축 설정\n",
    "\n",
    "    # 막대 위에 시간 값 표시\n",
    "    for bar in bars1:\n",
    "        yval = bar.get_height()\n",
    "        ax1.text(bar.get_x() + bar.get_width()/2, yval + 0.1, round(yval, 2), ha='center', va='bottom')\n",
    "\n",
    "    plt.tight_layout()\n",
    "    plt.show()\n",
    "else:\n",
    "    print(\"\\nCSV 추출 시간 데이터가 완전하지 않아 그래프를 그릴 수 없습니다.\")"
   ]
  }
 ],
 "metadata": {
  "kernelspec": {
   "display_name": "Python 3 (ipykernel)",
   "language": "python",
   "name": "python3"
  },
  "language_info": {
   "codemirror_mode": {
    "name": "ipython",
    "version": 3
   },
   "file_extension": ".py",
   "mimetype": "text/x-python",
   "name": "python",
   "nbconvert_exporter": "python",
   "pygments_lexer": "ipython3",
   "version": "3.11.13"
  }
 },
 "nbformat": 4,
 "nbformat_minor": 5
}
