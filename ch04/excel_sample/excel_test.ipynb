{
 "cells": [
  {
   "cell_type": "code",
   "execution_count": 8,
   "id": "2780e3ee-f019-423e-a808-c0e72ac7d6a6",
   "metadata": {},
   "outputs": [
    {
     "name": "stdout",
     "output_type": "stream",
     "text": [
      "'large_data_excel_compare.xlsx' 파일 생성 중... (오래 걸릴 수 있습니다)\n",
      "'large_data_excel_compare.xlsx' 파일 생성 완료. 소요 시간: 100.96 초\n"
     ]
    }
   ],
   "source": [
    "import pandas as pd\n",
    "import openpyxl # openpyxl은 Pandas의 Excel 엔진으로 사용됩니다.\n",
    "import time\n",
    "import os\n",
    "import random\n",
    "import gc # 가비지 컬렉션 모듈\n",
    "\n",
    "# --- 1. 대용량 Excel 파일 생성 (Pandas 사용) ---\n",
    "# 주의: Excel 파일 생성은 CSV보다 느립니다. 테스트 크기를 적절히 조절하세요.\n",
    "excel_file_name = \"large_data_excel_compare.xlsx\" # 파일명 변경하여 기존 large_data.xlsx와 구분\n",
    "num_excel_rows = 1_000_000 # 비교적 큰 규모의 Excel 파일 (수백만 줄은 생성 및 읽기 매우 오래 걸림)\n",
    "num_excel_columns = 10\n",
    "excel_headers = [f\"col_{i}\" for i in range(num_excel_columns)]\n",
    "\n",
    "if not os.path.exists(excel_file_name):\n",
    "    print(f\"'{excel_file_name}' 파일 생성 중... (오래 걸릴 수 있습니다)\")\n",
    "    start_gen = time.time()\n",
    "    # 대용량 DataFrame 생성\n",
    "    data_to_write = {\n",
    "        f\"col_{j}\": [f\"value_{i}_{j}\" if j % 2 == 0 else random.randint(1, 1000000)\n",
    "                     for i in range(num_excel_rows)]\n",
    "        for j in range(num_excel_columns)\n",
    "    }\n",
    "    df_gen = pd.DataFrame(data_to_write)\n",
    "    \n",
    "    # Excel 파일로 저장 (engine='openpyxl' 명시)\n",
    "    df_gen.to_excel(excel_file_name, index=False, engine='openpyxl')\n",
    "    \n",
    "    end_gen = time.time()\n",
    "    print(f\"'{excel_file_name}' 파일 생성 완료. 소요 시간: {end_gen - start_gen:.2f} 초\")\n",
    "    del df_gen # 파일 생성 후 DataFrame 객체 메모리에서 삭제\n",
    "    gc.collect() # 가비지 컬렉션\n",
    "else:\n",
    "    print(f\"'{excel_file_name}' 파일이 이미 존재합니다. 다시 생성하지 않습니다.\")"
   ]
  },
  {
   "cell_type": "markdown",
   "id": "064d679b-42d5-4f6e-8c5e-a9eb963984f1",
   "metadata": {},
   "source": [
    "# 파일 크기"
   ]
  },
  {
   "cell_type": "code",
   "execution_count": 9,
   "id": "888158e4-4edd-4347-b284-21f9df173237",
   "metadata": {},
   "outputs": [
    {
     "name": "stdout",
     "output_type": "stream",
     "text": [
      "\n",
      "--- 파일 크기 정보: 'large_data_excel_compare.xlsx' ---\n",
      "바이트 (Bytes): 59715467 B\n",
      "킬로바이트 (KB): 58315.89 KB\n",
      "메가바이트 (MB): 56.95 MB\n",
      "기가바이트 (GB): 0.06 GB\n",
      "-> 파일 크기: 56.95 MB\n",
      "---------------------------------------\n"
     ]
    }
   ],
   "source": [
    "import os\n",
    "\n",
    "def get_file_size_mb_gb(file_path):\n",
    "    \"\"\"\n",
    "    주어진 파일 경로의 파일 크기를 바이트, 킬로바이트(KB), 메가바이트(MB), 기가바이트(GB) 단위로 반환합니다.\n",
    "\n",
    "    Args:\n",
    "        file_path (str): 크기를 확인할 파일의 경로.\n",
    "\n",
    "    Returns:\n",
    "        tuple: (bytes, kb, mb, gb) 형식의 튜플.\n",
    "               파일이 없거나 접근할 수 없으면 (None, None, None, None)을 반환합니다.\n",
    "    \"\"\"\n",
    "    if not os.path.exists(file_path):\n",
    "        # print(f\"오류: '{file_path}' 파일이 존재하지 않습니다.\") # 메시지 중복 방지\n",
    "        return None, None, None, None\n",
    "    \n",
    "    if not os.path.isfile(file_path):\n",
    "        # print(f\"오류: '{file_path}'는 파일이 아니라 디렉토리입니다.\") # 메시지 중복 방지\n",
    "        return None, None, None, None\n",
    "\n",
    "    try:\n",
    "        size_in_bytes = os.path.getsize(file_path)\n",
    "        size_in_kb = size_in_bytes / 1024\n",
    "        size_in_mb = size_in_kb / 1024\n",
    "        size_in_gb = size_in_mb / 1024\n",
    "        return size_in_bytes, size_in_kb, size_in_mb, size_in_gb\n",
    "    except Exception as e:\n",
    "        # print(f\"파일 크기를 확인하는 중 오류 발생: {e}\") # 메시지 중복 방지\n",
    "        return None, None, None, None\n",
    "\n",
    "def print_file_size(file_path):\n",
    "    \"\"\"\n",
    "    파일 크기를 사람이 읽기 쉬운 형식(MB 또는 GB)으로 출력합니다.\n",
    "    \"\"\"\n",
    "    size_bytes, size_kb, size_mb, size_gb = get_file_size_mb_gb(file_path)\n",
    "\n",
    "    if size_bytes is not None:\n",
    "        print(f\"\\n--- 파일 크기 정보: '{file_path}' ---\")\n",
    "        print(f\"바이트 (Bytes): {size_bytes} B\")\n",
    "        print(f\"킬로바이트 (KB): {size_kb:.2f} KB\")\n",
    "        print(f\"메가바이트 (MB): {size_mb:.2f} MB\")\n",
    "        print(f\"기가바이트 (GB): {size_gb:.2f} GB\")\n",
    "\n",
    "        if size_gb >= 1:\n",
    "            print(f\"-> 파일 크기: {size_gb:.2f} GB\")\n",
    "        elif size_mb >= 1:\n",
    "            print(f\"-> 파일 크기: {size_mb:.2f} MB\")\n",
    "        elif size_kb >= 1:\n",
    "            print(f\"-> 파일 크기: {size_kb:.2f} KB\")\n",
    "        else:\n",
    "            print(f\"-> 파일 크기: {size_bytes} B\")\n",
    "    else:\n",
    "        print(f\"'{file_path}' 파일이 존재하지 않거나 접근할 수 없습니다.\")\n",
    "    print(\"---------------------------------------\")\n",
    "\n",
    "# 현재 확인하고자 하는 Excel 파일명\n",
    "excel_file_name = \"large_data_excel_compare.xlsx\"\n",
    "\n",
    "# 파일 크기 확인 및 출력\n",
    "print_file_size(excel_file_name)"
   ]
  },
  {
   "cell_type": "markdown",
   "id": "de0c404c-facf-4e0b-823c-d387947057f5",
   "metadata": {},
   "source": [
    "# Excel 추출 방식별 함수 정의"
   ]
  },
  {
   "cell_type": "code",
   "execution_count": 10,
   "id": "6211fcf1-3768-4940-a4fa-7253fdadaaef",
   "metadata": {},
   "outputs": [],
   "source": [
    "# --- 2. Excel 추출 방식별 함수 정의 (두 가지 방식만 포함) ---\n",
    "\n",
    "# (2-1) Pandas 기본 read_excel\n",
    "def read_excel_pandas_default(file_path):\n",
    "    \"\"\"Pandas의 read_excel 기본 모드로 Excel 파일 읽기\"\"\"\n",
    "    # engine='openpyxl'은 .xlsx 파일을 다룰 때 명시적으로 권장됨\n",
    "    df = pd.read_excel(file_path, engine='openpyxl')\n",
    "    return df\n",
    "\n",
    "# (2-2) Pandas read_excel + openpyxl read_only 모드 (메모리 최적화)\n",
    "def read_excel_pandas_read_only(file_path):\n",
    "    \"\"\"\n",
    "    Pandas를 통해 openpyxl의 read_only 모드를 사용하여 Excel 파일 읽기.\n",
    "    `engine_kwargs={'read_only': True}` 옵션은 openpyxl이 파일을 읽을 때\n",
    "    쓰기 가능한 객체를 생성하지 않고 오직 읽기 목적으로만 데이터를 로드하도록 지시합니다.\n",
    "    이는 메모리 사용량을 줄이는 데 도움이 될 수 있습니다.\n",
    "    \"\"\"\n",
    "    df = pd.read_excel(file_path, engine='openpyxl', engine_kwargs={'read_only': True})\n",
    "    return df"
   ]
  },
  {
   "cell_type": "markdown",
   "id": "3ffe1eac-fd21-4bfa-a412-80c5614c5bd6",
   "metadata": {},
   "source": [
    "# 각 방식별 시간 측정 및 메모리 관리"
   ]
  },
  {
   "cell_type": "code",
   "execution_count": 11,
   "id": "060aa6b2-597a-4331-a1eb-f826576dc39f",
   "metadata": {},
   "outputs": [
    {
     "name": "stdout",
     "output_type": "stream",
     "text": [
      "--- Pandas 기본 read_excel로 Excel 추출 시작 ---\n",
      "Pandas 기본 read_excel 완료. 총 1000000 줄, 소요 시간: 75.24 초\n",
      "\n",
      "--- Pandas (read_only 모드)로 Excel 추출 시작 ---\n",
      "Pandas (read_only 모드) 추출 완료. 총 1000000 줄, 소요 시간: 73.50 초\n"
     ]
    }
   ],
   "source": [
    "# --- 3. 각 방식별 시간 측정 및 메모리 관리 ---\n",
    "pandas_default_time = 0\n",
    "pandas_read_only_time = 0\n",
    "\n",
    "if os.path.exists(excel_file_name):\n",
    "    # 🔸 (3-1) Pandas 기본 read_excel\n",
    "    print(\"--- Pandas 기본 read_excel로 Excel 추출 시작 ---\")\n",
    "    start_time = time.time()\n",
    "    df_pandas_default = read_excel_pandas_default(excel_file_name)\n",
    "    end_time = time.time()\n",
    "    pandas_default_time = end_time - start_time\n",
    "    print(f\"Pandas 기본 read_excel 완료. 총 {len(df_pandas_default)} 줄, 소요 시간: {pandas_default_time:.2f} 초\")\n",
    "    del df_pandas_default # 추출된 DataFrame 객체를 메모리에서 삭제\n",
    "    gc.collect()          # 가비지 컬렉션 실행\n",
    "\n",
    "    # 🔸 (3-2) Pandas read_excel + openpyxl read_only 모드\n",
    "    print(\"\\n--- Pandas (read_only 모드)로 Excel 추출 시작 ---\")\n",
    "    start_time = time.time()\n",
    "    df_pandas_read_only = read_excel_pandas_read_only(excel_file_name)\n",
    "    end_time = time.time()\n",
    "    pandas_read_only_time = end_time - start_time\n",
    "    print(f\"Pandas (read_only 모드) 추출 완료. 총 {len(df_pandas_read_only)} 줄, 소요 시간: {pandas_read_only_time:.2f} 초\")\n",
    "    del df_pandas_read_only # 추출된 DataFrame 객체를 메모리에서 삭제\n",
    "    gc.collect()            # 가비지 컬렉션 실행\n",
    "\n",
    "else:\n",
    "    print(f\"'{excel_file_name}' 파일이 없습니다. 먼저 파일을 생성해주세요.\")"
   ]
  },
  {
   "cell_type": "markdown",
   "id": "08e79549-5ed9-4881-807c-4579de8a3981",
   "metadata": {},
   "source": [
    "# Excel 추출 속도 비교 시각화"
   ]
  },
  {
   "cell_type": "code",
   "execution_count": 12,
   "id": "2bd9251a-99f9-43e6-a286-121992fa7b9b",
   "metadata": {},
   "outputs": [
    {
     "data": {
      "image/png": "[encoded data removed]",
      "text/plain": [
       "<Figure size 800x600 with 1 Axes>"
      ]
     },
     "metadata": {},
     "output_type": "display_data"
    }
   ],
   "source": [
    "# --- 4. Excel 추출 속도 비교 시각화 ---\n",
    "import matplotlib.pyplot as plt\n",
    "import numpy as np\n",
    "\n",
    "labels_excel = [\n",
    "    'Pandas (Default Read)', \n",
    "    'Pandas (Read Only Mode)'\n",
    "]\n",
    "times_excel = [\n",
    "    pandas_default_time, \n",
    "    pandas_read_only_time\n",
    "]\n",
    "\n",
    "# 모든 시간이 측정되었을 때만 그래프 표시\n",
    "if all(time_val > 0 for time_val in times_excel):\n",
    "    fig, ax = plt.subplots(figsize=(8, 6)) # 그래프 크기 조정\n",
    "    bars = ax.bar(labels_excel, times_excel, color=['skyblue', 'lightgreen'])\n",
    "    \n",
    "    ax.set_ylabel('Time (seconds)')\n",
    "    ax.set_title('Excel Data Extraction Time Comparison (Lower is Better)')\n",
    "    ax.set_ylim(0, max(times_excel) * 1.2)\n",
    "    \n",
    "    # 막대 위에 값 표시\n",
    "    for bar in bars:\n",
    "        yval = bar.get_height()\n",
    "        ax.text(bar.get_x() + bar.get_width()/2, yval + 0.1, round(yval, 2), ha='center', va='bottom')\n",
    "    \n",
    "    plt.tight_layout()\n",
    "    plt.show()\n",
    "else:\n",
    "    print(\"\\nExcel 추출 시간 데이터가 완전하지 않아 그래프를 그릴 수 없습니다.\")"
   ]
  },
  {
   "cell_type": "code",
   "execution_count": null,
   "id": "8f5b19b1-1b87-418e-a383-37e9abbb64b9",
   "metadata": {},
   "outputs": [],
   "source": []
  }
 ],
 "metadata": {
  "kernelspec": {
   "display_name": "Python 3 (ipykernel)",
   "language": "python",
   "name": "python3"
  },
  "language_info": {
   "codemirror_mode": {
    "name": "ipython",
    "version": 3
   },
   "file_extension": ".py",
   "mimetype": "text/x-python",
   "name": "python",
   "nbconvert_exporter": "python",
   "pygments_lexer": "ipython3",
   "version": "3.11.13"
  }
 },
 "nbformat": 4,
 "nbformat_minor": 5
}
