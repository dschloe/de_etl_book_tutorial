{
 "cells": [
  {
   "cell_type": "markdown",
   "id": "2c1f7797",
   "metadata": {},
   "source": [
    "# 예제 코드"
   ]
  },
  {
   "cell_type": "code",
   "execution_count": 1,
   "id": "f1ac91f1",
   "metadata": {
    "vscode": {
     "languageId": "plaintext"
    }
   },
   "outputs": [
    {
     "name": "stdout",
     "output_type": "stream",
     "text": [
      "작업자 0 시작 (딜레이 1s)\n",
      "\n",
      "작업자 1 시작 (딜레이 2s)\n",
      "\n",
      "작업자 2 시작 (딜레이 3s)\n",
      "\n",
      "작업자 0 종료\n",
      "작업자 1 종료\n",
      "작업자 2 종료\n",
      "모든 작업자 스레드가 종료되었습니다.\n",
      "\n",
      "thread-A 시작 (딜레이 2s)\n",
      "thread-A 종료\n",
      "thread-A 시작 (딜레이 2s)\n",
      "thread-A 종료\n",
      "thread-A 시작 (딜레이 2s)\n",
      "thread-A 종료\n"
     ]
    }
   ],
   "source": [
    "import threading\n",
    "import time\n",
    "\n",
    "# 1. target 인수를 사용하는 스레드 생성\n",
    "def worker(number, delay=1):\n",
    "    \"\"\"간단한 작업 함수\"\"\"\n",
    "    print(f\"작업자 {number} 시작 (딜레이 {delay}s)\\n\")\n",
    "    time.sleep(delay)  # 여기서는 I/O 대기처럼 잠시 멈춤\n",
    "    print(f\"작업자 {number} 종료\")\n",
    "\n",
    "threads = []\n",
    "# 여러 스레드 생성 및 시작\n",
    "for i in range(3):\n",
    "    t = threading.Thread(\n",
    "        target=worker,\n",
    "        args=(i,),            # 위치 인수는 튜플로 전달\n",
    "        kwargs={'delay': i+1}, # 키워드 인수는 dict로 전달\n",
    "        name=f'worker-{i}'\n",
    "    )\n",
    "    threads.append(t)\n",
    "    t.start()  # start()를 호출해야 run()이 실행됨\n",
    "\n",
    "# 모든 스레드가 종료될 때까지 기다림\n",
    "for t in threads:\n",
    "    t.join()  # 각 스레드의 종료를 기다림\n",
    "\n",
    "print(\"모든 작업자 스레드가 종료되었습니다.\\n\")"
   ]
  },
  {
   "cell_type": "code",
   "execution_count": 4,
   "id": "d51db62e",
   "metadata": {
    "vscode": {
     "languageId": "plaintext"
    }
   },
   "outputs": [
    {
     "name": "stdout",
     "output_type": "stream",
     "text": [
      "thread-A가 아직 실행 중입니다. 나중에 다시 join()할 수 있습니다.\n"
     ]
    }
   ],
   "source": [
    "# 2. Thread를 상속하여 run() 재정의\n",
    "class MyThread(threading.Thread):\n",
    "    def __init__(self, name, delay):\n",
    "        super().__init__(name=name)\n",
    "        self.delay = delay\n",
    "\n",
    "    def run(self):\n",
    "        print(f\"{self.name} 시작 (딜레이 {self.delay}s)\")\n",
    "        time.sleep(self.delay)\n",
    "        print(f\"{self.name} 종료\")\n",
    "\n",
    "# 데몬 스레드 예제\n",
    "t1 = MyThread('thread-A', 2)\n",
    "t1.daemon = True     # start() 전에 데몬 속성 지정\n",
    "t1.start()\n",
    "\n",
    "# timeout을 주고 종료 대기\n",
    "t1.join(timeout=1.0)  # 1초 동안만 기다린다\n",
    "if t1.is_alive():\n",
    "    print(f\"{t1.name}가 아직 실행 중입니다. 나중에 다시 join()할 수 있습니다.\")\n",
    "else:\n",
    "    print(f\"{t1.name}가 종료되었습니다.\")"
   ]
  }
 ],
 "metadata": {
  "kernelspec": {
   "display_name": "Python 3 (ipykernel)",
   "language": "python",
   "name": "python3"
  },
  "language_info": {
   "codemirror_mode": {
    "name": "ipython",
    "version": 3
   },
   "file_extension": ".py",
   "mimetype": "text/x-python",
   "name": "python",
   "nbconvert_exporter": "python",
   "pygments_lexer": "ipython3",
   "version": "3.11.13"
  }
 },
 "nbformat": 4,
 "nbformat_minor": 5
}
