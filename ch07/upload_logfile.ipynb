{
 "cells": [
  {
   "cell_type": "code",
   "execution_count": 10,
   "id": "435571d9-9be3-46ad-a392-e8fc9806c92c",
   "metadata": {},
   "outputs": [
    {
     "name": "stdout",
     "output_type": "stream",
     "text": [
      "MySQL 데이터베이스 연결 성공!\n",
      "SQLAlchemy ORM을 사용하여 테이블이 성공적으로 생성되었습니다.\n",
      "DataFrame을 성공적으로 불러왔습니다.\n",
      "          client userid                    datetime method      request  \\\n",
      "0   52.79.152.10      -  16/Aug/2025:09:46:08 +0000   POST            /   \n",
      "1  198.51.100.77      -  16/Aug/2025:06:15:55 +0000   POST       /login   \n",
      "2    172.16.1.23    bob  17/Aug/2025:01:57:59 +0000    GET  /index.html   \n",
      "3   52.79.152.10      -  18/Aug/2025:03:46:09 +0000    GET       /login   \n",
      "4   192.168.0.10  alice  17/Aug/2025:22:44:40 +0000   POST            /   \n",
      "\n",
      "  status  size                  referer  \\\n",
      "0    301   763    https://www.bing.com/   \n",
      "1    401  2642    https://www.bing.com/   \n",
      "2    503  2794    https://www.bing.com/   \n",
      "3    503  3825  https://www.google.com/   \n",
      "4    302  4090    https://www.bing.com/   \n",
      "\n",
      "                                          user_agent  \n",
      "0  Mozilla/5.0 (iPhone; CPU iPhone OS 17_4 like M...  \n",
      "1  Mozilla/5.0 (Windows NT 10.0; Win64; x64) Appl...  \n",
      "2  Mozilla/5.0 (Macintosh; Intel Mac OS X 10_15_7...  \n",
      "3  Mozilla/5.0 (Windows NT 10.0; Win64; x64) Appl...  \n",
      "4                                         curl/8.6.0  \n",
      "데이터 저장 완료!\n"
     ]
    }
   ],
   "source": [
    "import pandas as pd\n",
    "from sqlalchemy import create_engine, Column, Integer, String, Boolean, Float, Text, SmallInteger\n",
    "from sqlalchemy.orm import declarative_base\n",
    "import pathlib\n",
    "\n",
    "# 1. 파일 경로 설정\n",
    "PARQUET_FILE_PATH = pathlib.Path(\"./data/parsed_logs.parquet\")\n",
    "\n",
    "# 2. 데이터베이스 연결 정보 설정\n",
    "DB_USER = \"evan\"\n",
    "DB_PASSWORD = \"123456\"\n",
    "DB_HOST = \"127.0.0.1\"\n",
    "DB_PORT = 3306\n",
    "DB_NAME = \"de_etl_book\"\n",
    "\n",
    "# 3. SQLAlchemy 엔진 생성 및 연결 테스트\n",
    "try:\n",
    "    engine = create_engine(f'mysql+mysqlconnector://{DB_USER}:{DB_PASSWORD}@{DB_HOST}:{DB_PORT}/{DB_NAME}')\n",
    "    with engine.connect() as conn:\n",
    "        print(\"MySQL 데이터베이스 연결 성공!\")\n",
    "except Exception as e:\n",
    "    print(f\"MySQL 데이터베이스 연결 실패: {e}\")\n",
    "    exit()\n",
    "\n",
    "# 4. SQLAlchemy ORM 모델 정의 (DataFrame 열 정보에 맞게 재정의)\n",
    "Base = declarative_base()\n",
    "\n",
    "class ParsedLogs(Base):\n",
    "    __tablename__ = 'parsed_logs_final' # 새로운 테이블 이름 지정\n",
    "    \n",
    "    id = Column(Integer, primary_key=True, autoincrement=True)\n",
    "    client = Column(String(255))\n",
    "    userid = Column(String(255))\n",
    "    datetime = Column(String(255))\n",
    "    method = Column(String(10))\n",
    "    request = Column(Text) # request는 path가 될 수도 있지만, 그대로 사용\n",
    "    status = Column(SmallInteger) # tinyint(4) 또는 smallint(6)에 해당하는 SmallInteger 사용\n",
    "    size = Column(Integer) # int16이므로 Integer로 충분\n",
    "    referer = Column(Text)\n",
    "    user_agent = Column(Text)\n",
    "    \n",
    "# 5. ORM 모델에 정의된 테이블 생성\n",
    "# 기존에 동일한 이름의 테이블이 있다면 먼저 삭제합니다.\n",
    "# Base.metadata.drop_all(engine)\n",
    "try:\n",
    "    Base.metadata.create_all(engine)\n",
    "    print(\"SQLAlchemy ORM을 사용하여 테이블이 성공적으로 생성되었습니다.\")\n",
    "except Exception as e:\n",
    "    print(f\"테이블 생성 실패: {e}\")\n",
    "\n",
    "\n",
    "# 6. Parquet 파일에서 데이터 불러오기\n",
    "try:\n",
    "    df = pd.read_parquet(PARQUET_FILE_PATH)\n",
    "    print(\"DataFrame을 성공적으로 불러왔습니다.\")\n",
    "    \n",
    "    # pandas to_sql의 dtype 인자 사용\n",
    "    # 카테고리 타입은 문자열로 변환하여 저장합니다.\n",
    "    df['method'] = df['method'].astype(str)\n",
    "    df['status'] = df['status'].astype(str)\n",
    "    df['size'] = df['size'].astype('int64') # MySQL INT 타입에 맞게 int64로 변환\n",
    "    \n",
    "except Exception as e:\n",
    "    print(f\"오류: {e}\")\n",
    "    exit()\n",
    "\n",
    "# 7. DataFrame을 SQL 테이블에 저장\n",
    "try:\n",
    "    print(df.head())\n",
    "    df.to_sql(\n",
    "        name=ParsedLogs.__tablename__,\n",
    "        con=engine,\n",
    "        if_exists='append',\n",
    "        index=False,\n",
    "        chunksize=1000\n",
    "    )\n",
    "    print(\"데이터 저장 완료!\")\n",
    "except Exception as e:\n",
    "    print(f\"데이터 저장 실패: {e}\")"
   ]
  },
  {
   "cell_type": "markdown",
   "id": "8f555ee9-79b2-41be-9bf8-077b85e2f86d",
   "metadata": {},
   "source": [
    "## 테이블 삭제"
   ]
  },
  {
   "cell_type": "code",
   "execution_count": 11,
   "id": "3102de0b-23c0-4ede-a75d-e0effaee55c3",
   "metadata": {},
   "outputs": [
    {
     "name": "stdout",
     "output_type": "stream",
     "text": [
      "'parsed_logs_final' 테이블이 성공적으로 삭제되었습니다.\n"
     ]
    }
   ],
   "source": [
    "from sqlalchemy import create_engine, text\n",
    "\n",
    "# 데이터베이스 연결 엔진 생성\n",
    "engine = create_engine(f'mysql+mysqlconnector://{DB_USER}:{DB_PASSWORD}@{DB_HOST}:{DB_PORT}/{DB_NAME}')\n",
    "\n",
    "# 삭제할 테이블 이름\n",
    "table_name = 'parsed_logs_final'\n",
    "\n",
    "# SQL 쿼리 직접 실행\n",
    "# 'IF EXISTS'를 추가하여 테이블이 존재하지 않더라도 오류가 발생하지 않게 합니다.\n",
    "drop_query = text(f\"DROP TABLE IF EXISTS {table_name}\")\n",
    "\n",
    "try:\n",
    "    with engine.connect() as conn:\n",
    "        conn.execute(drop_query)\n",
    "        print(f\"'{table_name}' 테이블이 성공적으로 삭제되었습니다.\")\n",
    "except Exception as e:\n",
    "    print(f\"'{table_name}' 테이블 삭제 실패: {e}\")"
   ]
  }
 ],
 "metadata": {
  "kernelspec": {
   "display_name": "Python 3 (ipykernel)",
   "language": "python",
   "name": "python3"
  },
  "language_info": {
   "codemirror_mode": {
    "name": "ipython",
    "version": 3
   },
   "file_extension": ".py",
   "mimetype": "text/x-python",
   "name": "python",
   "nbconvert_exporter": "python",
   "pygments_lexer": "ipython3",
   "version": "3.11.13"
  }
 },
 "nbformat": 4,
 "nbformat_minor": 5
}
