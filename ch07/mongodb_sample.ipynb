{
 "cells": [
  {
   "cell_type": "markdown",
   "id": "c1418c8e-3ba8-4e28-ac8d-f82200217c23",
   "metadata": {},
   "source": [
    "# 초기화"
   ]
  },
  {
   "cell_type": "code",
   "execution_count": 2,
   "id": "0a24ea10-cb29-4a16-94b9-6ac4a57f5317",
   "metadata": {},
   "outputs": [
    {
     "name": "stdout",
     "output_type": "stream",
     "text": [
      "\n",
      "Current databases: ['admin', 'config', 'local', 'log_database', 'test_database']\n"
     ]
    }
   ],
   "source": [
    "import pymongo\n",
    "\n",
    "MONGO_URI = \"mongodb://localhost:27017/\"\n",
    "\n",
    "try:\n",
    "    # Connect to MongoDB client\n",
    "    client = pymongo.MongoClient(MONGO_URI)\n",
    "    database_names = client.list_database_names()\n",
    "    print(f\"\\nCurrent databases: {database_names}\")\n",
    "    \n",
    "except pymongo.errors.ConnectionFailure as e:\n",
    "    print(f\"Connection error: {e}\")"
   ]
  },
  {
   "cell_type": "code",
   "execution_count": 3,
   "id": "cf384c3a-ce65-4002-8602-8d979ef2e780",
   "metadata": {},
   "outputs": [
    {
     "name": "stdout",
     "output_type": "stream",
     "text": [
      "\n",
      " Deleting all non-system databases...\n",
      " Skipping system database 'admin'.\n",
      " Skipping system database 'config'.\n",
      " Skipping system database 'local'.\n",
      " Database 'log_database' has been deleted.\n",
      " Database 'test_database' has been deleted.\n",
      "\n",
      " Databases remaining: ['admin', 'config', 'local']\n",
      "\n",
      " Connection closed. All operations completed.\n"
     ]
    }
   ],
   "source": [
    "# System databases to be skipped\n",
    "system_databases = [\"admin\", \"config\", \"local\"]\n",
    "\n",
    "if database_names:\n",
    "    print(\"\\n Deleting all non-system databases...\")\n",
    "    for db_name in database_names:\n",
    "        if db_name not in system_databases:\n",
    "            client.drop_database(db_name)\n",
    "            print(f\" Database '{db_name}' has been deleted.\")\n",
    "        else:\n",
    "            print(f\" Skipping system database '{db_name}'.\")\n",
    "\n",
    "    # Verify deletion by listing databases again\n",
    "    remaining_databases = client.list_database_names()\n",
    "    print(f\"\\n Databases remaining: {remaining_databases}\")\n",
    "\n",
    "# Close the connection\n",
    "client.close()\n",
    "print(\"\\n Connection closed. All operations completed.\")"
   ]
  },
  {
   "cell_type": "markdown",
   "id": "1d9bf1ab-d91e-45cf-9984-6540f249dd70",
   "metadata": {},
   "source": [
    "# 쉬운 예제"
   ]
  },
  {
   "cell_type": "code",
   "execution_count": 4,
   "id": "f5b732c2-54e0-495e-80da-b6543a47d753",
   "metadata": {},
   "outputs": [
    {
     "name": "stdout",
     "output_type": "stream",
     "text": [
      "Database(MongoClient(host=['127.0.0.1:27017'], document_class=dict, tz_aware=False, connect=True), 'test_database')\n"
     ]
    }
   ],
   "source": [
    "from datetime import datetime, timedelta, timezone\n",
    "from pymongo import MongoClient, ASCENDING, DESCENDING\n",
    "from pprint import pprint\n",
    "\n",
    "client = MongoClient(\"mongodb://127.0.0.1:27017\")\n",
    "\n",
    "# test_database 생성\n",
    "db = client['test_database']\n",
    "print(db)"
   ]
  },
  {
   "cell_type": "code",
   "execution_count": 5,
   "id": "8ab56c60-9b84-4159-8005-e69a8cb37469",
   "metadata": {},
   "outputs": [
    {
     "name": "stdout",
     "output_type": "stream",
     "text": [
      "문서삽입 성공, ID: 68a5646c6d0b2fb118f138d8\n"
     ]
    }
   ],
   "source": [
    "# hello_collection 생성\n",
    "msg_collection = db['hello_collection']\n",
    "\n",
    "# Hello, World! 텍스트 문서 생성\n",
    "document = {\n",
    "    \"message\" : \"Hello, World!\", \n",
    "    \"timestamp\" : datetime.now()\n",
    "}\n",
    "\n",
    "# 문서 삽입 \n",
    "result = msg_collection.insert_one(document)\n",
    "print(f\"문서삽입 성공, ID: {result.inserted_id}\")"
   ]
  },
  {
   "cell_type": "code",
   "execution_count": 6,
   "id": "37a5eb27-a0ab-4bdb-aa2b-f1a64b9bbea8",
   "metadata": {},
   "outputs": [
    {
     "name": "stdout",
     "output_type": "stream",
     "text": [
      "{'_id': ObjectId('68a5646c6d0b2fb118f138d8'), 'message': 'Hello, World!', 'timestamp': datetime.datetime(2025, 8, 20, 15, 0, 12, 542000)}\n"
     ]
    }
   ],
   "source": [
    "# 저장된 문서 확인 \n",
    "for doc in msg_collection.find():\n",
    "    print(doc)"
   ]
  },
  {
   "cell_type": "markdown",
   "id": "0e3aaa2c-7c29-414a-87bd-84d00b6fb7ab",
   "metadata": {},
   "source": [
    "# 에러 로그 파일"
   ]
  },
  {
   "cell_type": "markdown",
   "id": "45e3bc9d-6996-44b4-ba51-ab4493caea38",
   "metadata": {},
   "source": [
    "## 모든 함수 정의"
   ]
  },
  {
   "cell_type": "code",
   "execution_count": 7,
   "id": "1e43b614-1c55-4f9f-bf15-d8498aeef62c",
   "metadata": {},
   "outputs": [],
   "source": [
    "import pymongo\n",
    "import re\n",
    "import json\n",
    "\n",
    "def parse_error_logs(file_path):\n",
    "    \"\"\"\n",
    "    error_logs.txt 파일을 파싱하여 JSON 문서 리스트로 반환합니다.\n",
    "    \"\"\"\n",
    "    logs = []\n",
    "    with open(file_path, 'r', encoding='utf-8') as f:\n",
    "        for line in f:\n",
    "            line = line.strip()\n",
    "            if not line:\n",
    "                continue\n",
    "\n",
    "            if \"BROKEN LINE WITHOUT FIELDS\" in line:\n",
    "                logs.append({\"log_type\": \"corrupted\", \"message\": line})\n",
    "            elif re.match(r'^\".*\" \\d{3}$', line):\n",
    "                match = re.match(r'^\"(.+)\" (\\d{3})$', line)\n",
    "                logs.append({\n",
    "                    \"log_type\": \"incomplete\",\n",
    "                    \"user_agent\": match.group(1),\n",
    "                    \"status_code\": int(match.group(2))\n",
    "                })\n",
    "            else:\n",
    "                match = re.match(r'^(\\S+) - (\\S+) \\[([^\\]]+)\\] \"([^\"]+)\" (\\d{3}) (\\S+) \"([^\"]*)\" \"([^\"]*)\"$', line)\n",
    "                if match:\n",
    "                    logs.append({\n",
    "                        \"log_type\": \"full\",\n",
    "                        \"ip\": match.group(1),\n",
    "                        \"user\": match.group(2),\n",
    "                        \"timestamp\": match.group(3),\n",
    "                        \"request\": match.group(4),\n",
    "                        \"status_code\": int(match.group(5)),\n",
    "                        \"size\": int(match.group(6)) if match.group(6).isdigit() else match.group(6),\n",
    "                        \"referer\": match.group(7) if match.group(7) != '-' else None,\n",
    "                        \"user_agent\": match.group(8) if match.group(8) != '-' else None\n",
    "                    })\n",
    "    return logs\n",
    "\n",
    "def parse_advertools_logs(file_path):\n",
    "    \"\"\"\n",
    "    advertools_error_logs.txt 파일을 파싱하여 JSON 문서 리스트로 반환합니다.\n",
    "    \"\"\"\n",
    "    logs = []\n",
    "    with open(file_path, 'r', encoding='utf-8') as f:\n",
    "        for line in f:\n",
    "            line = line.strip()\n",
    "            if not line:\n",
    "                continue\n",
    "\n",
    "            parts = line.split(\"@@\")\n",
    "            if len(parts) == 3:\n",
    "                log_id = parts[0]\n",
    "                log_data = parts[1]\n",
    "                error_message = parts[2]\n",
    "\n",
    "                match = re.match(r'^(\\S+) - (\\S+) \\[([^\\]]+)\\] \"([^\"]+)\" (\\d{3}) (\\S+) \"([^\"]*)\" \"([^\"]*)\" \"([^\"]+)\" (\\S+)$', log_data)\n",
    "                \n",
    "                if match:\n",
    "                    logs.append({\n",
    "                        \"log_type\": \"advertools_error\",\n",
    "                        \"log_id\": int(log_id) if log_id.isdigit() else log_id,\n",
    "                        \"ip\": match.group(1),\n",
    "                        \"user\": match.group(2),\n",
    "                        \"timestamp\": match.group(3),\n",
    "                        \"request\": match.group(4),\n",
    "                        \"status_code\": int(match.group(5)),\n",
    "                        \"bytes\": int(match.group(6)) if match.group(6).isdigit() else match.group(6),\n",
    "                        \"referer\": match.group(7) if match.group(7) != '-' else None,\n",
    "                        \"user_agent\": match.group(8) if match.group(8) != '-' else None,\n",
    "                        \"host\": match.group(9),\n",
    "                        \"response_time\": float(match.group(10)) if match.group(10).replace('.', '', 1).isdigit() else match.group(10),\n",
    "                        \"error_message\": error_message\n",
    "                    })\n",
    "    return logs\n",
    "\n",
    "def save_logs_to_mongodb(logs_data, collection):\n",
    "    \"\"\"\n",
    "    파싱된 로그 데이터를 MongoDB에 저장합니다.\n",
    "    \"\"\"\n",
    "    if logs_data:\n",
    "        try:\n",
    "            collection.insert_many(logs_data)\n",
    "            print(f\"{len(logs_data)}개의 로그 항목이 '{collection.name}' 컬렉션에 성공적으로 저장되었습니다.\")\n",
    "        except pymongo.errors.BulkWriteError as e:\n",
    "            print(f\"데이터 저장 중 오류 발생: {e.details}\")\n",
    "    else:\n",
    "        print(f\"저장할 로그 데이터가 없습니다. (대상 컬렉션: {collection.name})\")\n",
    "\n",
    "def delete_mongodb_database(client, db_name):\n",
    "    \"\"\"\n",
    "    지정된 MongoDB 데이터베이스를 완전히 삭제합니다.\n",
    "    \"\"\"\n",
    "    try:\n",
    "        client.drop_database(db_name)\n",
    "        print(f\"\\n'{db_name}' 데이터베이스와 모든 컬렉션/문서를 삭제했습니다.\")\n",
    "    except Exception as e:\n",
    "        print(f\"데이터베이스 삭제 중 오류가 발생했습니다: {e}\")"
   ]
  },
  {
   "cell_type": "markdown",
   "id": "c361f265-d1f8-4d25-9c1d-b925266ac651",
   "metadata": {},
   "source": [
    "## MongoDB 연결 및 데이터 저장"
   ]
  },
  {
   "cell_type": "code",
   "execution_count": 8,
   "id": "442ee9e6-5c5b-4170-8f03-f6a0b35eddb4",
   "metadata": {},
   "outputs": [
    {
     "name": "stdout",
     "output_type": "stream",
     "text": [
      "'log_database' 데이터베이스에 연결했습니다.\n"
     ]
    }
   ],
   "source": [
    "# --- MongoDB 연결 및 초기화 ---\n",
    "MONGO_URI = \"mongodb://localhost:27017/\"\n",
    "DB_NAME = \"log_database\"\n",
    "\n",
    "try:\n",
    "    # MongoDB에 연결합니다.\n",
    "    client = pymongo.MongoClient(MONGO_URI)\n",
    "    db = client[DB_NAME]\n",
    "    \n",
    "    print(f\"'{DB_NAME}' 데이터베이스에 연결했습니다.\")\n",
    "\n",
    "except pymongo.errors.ConnectionFailure as e:\n",
    "    print(f\"MongoDB에 연결할 수 없습니다. 서버가 실행 중인지 확인하세요: {e}\")\n",
    "except Exception as e:\n",
    "    print(f\"예상치 못한 오류가 발생했습니다: {e}\")"
   ]
  },
  {
   "cell_type": "markdown",
   "id": "26e3a2bd-0b94-4ff9-9981-70173ad293d1",
   "metadata": {},
   "source": [
    "## error_logs 컬렉션에 데이터 저장"
   ]
  },
  {
   "cell_type": "code",
   "execution_count": 9,
   "id": "2c1d32d8-48c4-4e18-9def-89e3569321f7",
   "metadata": {},
   "outputs": [
    {
     "name": "stdout",
     "output_type": "stream",
     "text": [
      "\n",
      "'error_logs' 컬렉션에 데이터 저장 시작...\n",
      "11개의 로그 항목이 'error_logs' 컬렉션에 성공적으로 저장되었습니다.\n"
     ]
    }
   ],
   "source": [
    "# error_logs.txt 파일을 'error_logs' 컬렉션에 저장\n",
    "ERROR_LOGS_COLLECTION = \"error_logs\"\n",
    "error_logs_collection = db[ERROR_LOGS_COLLECTION]\n",
    "\n",
    "print(f\"\\n'{ERROR_LOGS_COLLECTION}' 컬렉션에 데이터 저장 시작...\")\n",
    "try:\n",
    "    error_logs_data = parse_error_logs(\"data/error_logs.txt\")\n",
    "    save_logs_to_mongodb(error_logs_data, error_logs_collection)\n",
    "except FileNotFoundError:\n",
    "    print(\"'data/error_logs.txt' 파일을 찾을 수 없습니다.\")\n",
    "except Exception as e:\n",
    "    print(f\"'error_logs.txt' 처리 중 오류가 발생했습니다: {e}\")"
   ]
  },
  {
   "cell_type": "markdown",
   "id": "f7722a66-f20b-49ea-bfe0-0f6d9bc576fd",
   "metadata": {},
   "source": [
    "## advertools_error_logs 컬렉션에 데이터 저장"
   ]
  },
  {
   "cell_type": "code",
   "execution_count": 10,
   "id": "f7c12edb-1702-4a33-b5cc-8bb4623d6825",
   "metadata": {},
   "outputs": [
    {
     "name": "stdout",
     "output_type": "stream",
     "text": [
      "\n",
      "'advertools_error_logs' 컬렉션에 데이터 저장 시작...\n",
      "300개의 로그 항목이 'advertools_error_logs' 컬렉션에 성공적으로 저장되었습니다.\n"
     ]
    }
   ],
   "source": [
    "# advertools_error_logs.txt 파일을 'advertools_error_logs' 컬렉션에 저장\n",
    "ADVERTOOLS_LOGS_COLLECTION = \"advertools_error_logs\"\n",
    "advertools_logs_collection = db[ADVERTOOLS_LOGS_COLLECTION]\n",
    "\n",
    "print(f\"\\n'{ADVERTOOLS_LOGS_COLLECTION}' 컬렉션에 데이터 저장 시작...\")\n",
    "try:\n",
    "    advertools_logs_data = parse_advertools_logs(\"data/advertools_error_logs.txt\")\n",
    "    save_logs_to_mongodb(advertools_logs_data, advertools_logs_collection)\n",
    "except FileNotFoundError:\n",
    "    print(\"'data/advertools_error_logs.txt' 파일을 찾을 수 없습니다.\")\n",
    "except Exception as e:\n",
    "    print(f\"'advertools_error_logs.txt' 처리 중 오류가 발생했습니다: {e}\")"
   ]
  },
  {
   "cell_type": "markdown",
   "id": "562b98bd-bb62-4753-bb67-056893a8a72d",
   "metadata": {},
   "source": [
    "## error_logs 컬렉션 조회 예제"
   ]
  },
  {
   "cell_type": "markdown",
   "id": "7cf7c158-5591-451e-9444-0ed2f3926205",
   "metadata": {},
   "source": [
    "### 모든 문서 조회"
   ]
  },
  {
   "cell_type": "code",
   "execution_count": 11,
   "id": "d623ffa1-2e7c-41ff-816f-b8d42dfe8b6a",
   "metadata": {},
   "outputs": [
    {
     "name": "stdout",
     "output_type": "stream",
     "text": [
      "{'_id': ObjectId('68a5646c6d0b2fb118f138da'), 'log_type': 'incomplete', 'user_agent': 'Mozilla/5.0 (Macintosh; Intel Mac OS X 10_15_7) AppleWebKit/605.1.15 (KHTML, like Gecko) Version/17.3 Safari/605.1.15', 'status_code': 400}\n",
      "{'_id': ObjectId('68a5646c6d0b2fb118f138db'), 'log_type': 'corrupted', 'message': 'BROKEN LINE WITHOUT FIELDS'}\n",
      "{'_id': ObjectId('68a5646c6d0b2fb118f138dc'), 'log_type': 'incomplete', 'user_agent': 'Mozilla/5.0 (iPhone; CPU iPhone OS 17_4 like Mac OS X) AppleWebKit/605.1.15 (KHTML, like Gecko) Version/17.4 Mobile/15E148 Safari/604.1', 'status_code': 302}\n",
      "{'_id': ObjectId('68a5646c6d0b2fb118f138dd'), 'log_type': 'incomplete', 'user_agent': 'Mozilla/5.0 (X11; Ubuntu; Linux x86_64; rv:125.0) Gecko/20100101 Firefox/125.0', 'status_code': 201}\n",
      "{'_id': ObjectId('68a5646c6d0b2fb118f138de'), 'log_type': 'corrupted', 'message': 'BROKEN LINE WITHOUT FIELDS'}\n"
     ]
    }
   ],
   "source": [
    "documents = error_logs_collection.find().limit(5)\n",
    "for doc in documents:\n",
    "    print(doc)"
   ]
  },
  {
   "cell_type": "markdown",
   "id": "ce85cb75-301b-4c82-abd8-fcb109084c7a",
   "metadata": {},
   "source": [
    "### 특정 Log Type(incomplete)를 가진 문서 조회"
   ]
  },
  {
   "cell_type": "code",
   "execution_count": 12,
   "id": "fa18f8ff-4ea1-4258-9022-142893da9062",
   "metadata": {},
   "outputs": [
    {
     "name": "stdout",
     "output_type": "stream",
     "text": [
      "{'_id': ObjectId('68a5646c6d0b2fb118f138da'), 'log_type': 'incomplete', 'user_agent': 'Mozilla/5.0 (Macintosh; Intel Mac OS X 10_15_7) AppleWebKit/605.1.15 (KHTML, like Gecko) Version/17.3 Safari/605.1.15', 'status_code': 400}\n",
      "{'_id': ObjectId('68a5646c6d0b2fb118f138dc'), 'log_type': 'incomplete', 'user_agent': 'Mozilla/5.0 (iPhone; CPU iPhone OS 17_4 like Mac OS X) AppleWebKit/605.1.15 (KHTML, like Gecko) Version/17.4 Mobile/15E148 Safari/604.1', 'status_code': 302}\n",
      "{'_id': ObjectId('68a5646c6d0b2fb118f138dd'), 'log_type': 'incomplete', 'user_agent': 'Mozilla/5.0 (X11; Ubuntu; Linux x86_64; rv:125.0) Gecko/20100101 Firefox/125.0', 'status_code': 201}\n",
      "{'_id': ObjectId('68a5646c6d0b2fb118f138e0'), 'log_type': 'incomplete', 'user_agent': 'Mozilla/5.0 (Macintosh; Intel Mac OS X 10_15_7) AppleWebKit/605.1.15 (KHTML, like Gecko) Version/17.3 Safari/605.1.15', 'status_code': 503}\n"
     ]
    }
   ],
   "source": [
    "query = {\"log_type\": 'incomplete'}\n",
    "documents = error_logs_collection.find(query)\n",
    "for doc in documents:\n",
    "    print(doc)"
   ]
  },
  {
   "cell_type": "markdown",
   "id": "69e9d2da-79cd-47e9-af50-e974f6e88ab8",
   "metadata": {},
   "source": [
    "### 특정 log_type의 문서 개수 세기"
   ]
  },
  {
   "cell_type": "code",
   "execution_count": 13,
   "id": "2f6cbf58-d17d-4a78-b727-b58d9cf573b9",
   "metadata": {},
   "outputs": [
    {
     "name": "stdout",
     "output_type": "stream",
     "text": [
      "총 4개의 'incomplete' 로그가 있습니다.\n"
     ]
    }
   ],
   "source": [
    "count = error_logs_collection.count_documents({\"log_type\": \"incomplete\"})\n",
    "print(f\"총 {count}개의 'incomplete' 로그가 있습니다.\")"
   ]
  },
  {
   "cell_type": "markdown",
   "id": "a74e23da-067e-47f3-9220-a2c71496100c",
   "metadata": {},
   "source": [
    "## advertools_error_logs 컬렉션 조회 예제"
   ]
  },
  {
   "cell_type": "markdown",
   "id": "15f25304-d70f-4515-acf8-5d2be22ed5a7",
   "metadata": {},
   "source": [
    "### 특정 에러 메시지를 가진 문서 조회"
   ]
  },
  {
   "cell_type": "code",
   "execution_count": 14,
   "id": "4688d49d-fba7-4943-a5c3-86ec75fdb91a",
   "metadata": {},
   "outputs": [
    {
     "name": "stdout",
     "output_type": "stream",
     "text": [
      "총 300개의 문서가 있습니다.\n",
      "{'_id': ObjectId('68a5646c6d0b2fb118f138e5'), 'log_type': 'advertools_error', 'log_id': 300, 'ip': '10.0.0.5', 'user': 'dave', 'timestamp': '16/Aug/2025:12:33:16 +0000', 'request': 'POST /static/app.js HTTP/2.0', 'status_code': 403, 'bytes': 1273, 'referer': None, 'user_agent': 'Mozilla/5.0 (Macintosh; Intel Mac OS X 10_15_7) AppleWebKit/605.1.15 (KHTML, like Gecko) Version/17.3 Safari/605.1.15', 'host': 'api.example.com', 'response_time': 3.183, 'error_message': 'list index out of range'}\n",
      "{'_id': ObjectId('68a5646c6d0b2fb118f138e6'), 'log_type': 'advertools_error', 'log_id': 301, 'ip': '52.79.152.10', 'user': '-', 'timestamp': '17/Aug/2025:13:49:39 +0000', 'request': 'PUT /api/v1/items/42?utm_source=newsletter&utm_campaign=4 HTTP/1.1', 'status_code': 301, 'bytes': 3995, 'referer': 'https://twitter.com/someone/status/1', 'user_agent': 'Mozilla/5.0 (X11; Ubuntu; Linux x86_64; rv:125.0) Gecko/20100101 Firefox/125.0', 'host': 'example.com', 'response_time': 2.538, 'error_message': 'list index out of range'}\n",
      "{'_id': ObjectId('68a5646c6d0b2fb118f138e7'), 'log_type': 'advertools_error', 'log_id': 302, 'ip': '198.51.100.77', 'user': '-', 'timestamp': '16/Aug/2025:21:22:08 +0000', 'request': 'DELETE /login?utm_source=twitter&utm_campaign=5 HTTP/1.1', 'status_code': 200, 'bytes': 4445, 'referer': None, 'user_agent': 'Mozilla/5.0 (X11; Ubuntu; Linux x86_64; rv:125.0) Gecko/20100101 Firefox/125.0', 'host': 'shop.example.com', 'response_time': 2.469, 'error_message': 'list index out of range'}\n",
      "{'_id': ObjectId('68a5646c6d0b2fb118f138e8'), 'log_type': 'advertools_error', 'log_id': 303, 'ip': '52.79.152.10', 'user': 'svc-web', 'timestamp': '17/Aug/2025:05:57:26 +0000', 'request': 'POST /index.html HTTP/2.0', 'status_code': 502, 'bytes': 5165, 'referer': 'https://twitter.com/someone/status/1', 'user_agent': 'Mozilla/5.0 (iPhone; CPU iPhone OS 17_4 like Mac OS X) AppleWebKit/605.1.15 (KHTML, like Gecko) Version/17.4 Mobile/15E148 Safari/604.1', 'host': 'api.example.com', 'response_time': 3.109, 'error_message': 'list index out of range'}\n",
      "{'_id': ObjectId('68a5646c6d0b2fb118f138e9'), 'log_type': 'advertools_error', 'log_id': 304, 'ip': '172.16.1.23', 'user': 'dave', 'timestamp': '17/Aug/2025:14:55:29 +0000', 'request': 'PATCH /search?q=python HTTP/1.1', 'status_code': 201, 'bytes': 2127, 'referer': 'https://www.google.com/', 'user_agent': 'curl/8.6.0', 'host': 'shop.example.com', 'response_time': 2.514, 'error_message': 'list index out of range'}\n"
     ]
    }
   ],
   "source": [
    "query = {\"error_message\": \"list index out of range\"}\n",
    "\n",
    "# 조건에 맞는 문서의 총 개수\n",
    "count = advertools_logs_collection.count_documents(query)\n",
    "print(f\"총 {count}개의 문서가 있습니다.\")\n",
    "\n",
    "# 조회된 문서의 상위 5개 출력\n",
    "documents = advertools_logs_collection.find(query).limit(5)\n",
    "for doc in documents:\n",
    "    print(doc)"
   ]
  },
  {
   "cell_type": "markdown",
   "id": "b58d39aa-55a6-4b24-9e06-23a7d548afde",
   "metadata": {},
   "source": [
    "### 응답 시간(Response Time)이 1초 이상인 로그 조회"
   ]
  },
  {
   "cell_type": "code",
   "execution_count": 15,
   "id": "628bfe99-d88c-4d23-accb-efea21197b2c",
   "metadata": {},
   "outputs": [
    {
     "name": "stdout",
     "output_type": "stream",
     "text": [
      "총 226개의 문서가 있습니다.\n",
      "{'_id': ObjectId('68a5646c6d0b2fb118f138e5'), 'log_type': 'advertools_error', 'log_id': 300, 'ip': '10.0.0.5', 'user': 'dave', 'timestamp': '16/Aug/2025:12:33:16 +0000', 'request': 'POST /static/app.js HTTP/2.0', 'status_code': 403, 'bytes': 1273, 'referer': None, 'user_agent': 'Mozilla/5.0 (Macintosh; Intel Mac OS X 10_15_7) AppleWebKit/605.1.15 (KHTML, like Gecko) Version/17.3 Safari/605.1.15', 'host': 'api.example.com', 'response_time': 3.183, 'error_message': 'list index out of range'}\n",
      "{'_id': ObjectId('68a5646c6d0b2fb118f138e6'), 'log_type': 'advertools_error', 'log_id': 301, 'ip': '52.79.152.10', 'user': '-', 'timestamp': '17/Aug/2025:13:49:39 +0000', 'request': 'PUT /api/v1/items/42?utm_source=newsletter&utm_campaign=4 HTTP/1.1', 'status_code': 301, 'bytes': 3995, 'referer': 'https://twitter.com/someone/status/1', 'user_agent': 'Mozilla/5.0 (X11; Ubuntu; Linux x86_64; rv:125.0) Gecko/20100101 Firefox/125.0', 'host': 'example.com', 'response_time': 2.538, 'error_message': 'list index out of range'}\n",
      "{'_id': ObjectId('68a5646c6d0b2fb118f138e7'), 'log_type': 'advertools_error', 'log_id': 302, 'ip': '198.51.100.77', 'user': '-', 'timestamp': '16/Aug/2025:21:22:08 +0000', 'request': 'DELETE /login?utm_source=twitter&utm_campaign=5 HTTP/1.1', 'status_code': 200, 'bytes': 4445, 'referer': None, 'user_agent': 'Mozilla/5.0 (X11; Ubuntu; Linux x86_64; rv:125.0) Gecko/20100101 Firefox/125.0', 'host': 'shop.example.com', 'response_time': 2.469, 'error_message': 'list index out of range'}\n",
      "{'_id': ObjectId('68a5646c6d0b2fb118f138e8'), 'log_type': 'advertools_error', 'log_id': 303, 'ip': '52.79.152.10', 'user': 'svc-web', 'timestamp': '17/Aug/2025:05:57:26 +0000', 'request': 'POST /index.html HTTP/2.0', 'status_code': 502, 'bytes': 5165, 'referer': 'https://twitter.com/someone/status/1', 'user_agent': 'Mozilla/5.0 (iPhone; CPU iPhone OS 17_4 like Mac OS X) AppleWebKit/605.1.15 (KHTML, like Gecko) Version/17.4 Mobile/15E148 Safari/604.1', 'host': 'api.example.com', 'response_time': 3.109, 'error_message': 'list index out of range'}\n",
      "{'_id': ObjectId('68a5646c6d0b2fb118f138e9'), 'log_type': 'advertools_error', 'log_id': 304, 'ip': '172.16.1.23', 'user': 'dave', 'timestamp': '17/Aug/2025:14:55:29 +0000', 'request': 'PATCH /search?q=python HTTP/1.1', 'status_code': 201, 'bytes': 2127, 'referer': 'https://www.google.com/', 'user_agent': 'curl/8.6.0', 'host': 'shop.example.com', 'response_time': 2.514, 'error_message': 'list index out of range'}\n"
     ]
    }
   ],
   "source": [
    "query = {\"response_time\": {\"$gt\": 1.0}}\n",
    "\n",
    "# 조건에 맞는 문서의 총 개수\n",
    "count = advertools_logs_collection.count_documents(query)\n",
    "print(f\"총 {count}개의 문서가 있습니다.\")\n",
    "\n",
    "# 조회된 문서의 상위 5개 출력\n",
    "documents = advertools_logs_collection.find(query).limit(5)\n",
    "for doc in documents:\n",
    "    print(doc)"
   ]
  },
  {
   "cell_type": "markdown",
   "id": "f1834fc4-fd9c-4f95-b4b8-dcd320e25435",
   "metadata": {},
   "source": [
    "### 상태 코드와 IP 주소로 필터링하여 조회"
   ]
  },
  {
   "cell_type": "code",
   "execution_count": 16,
   "id": "2e36c4ae-6caa-40ed-b922-fe9d3f97c0e9",
   "metadata": {},
   "outputs": [
    {
     "name": "stdout",
     "output_type": "stream",
     "text": [
      "총 7개의 문서가 있습니다.\n",
      "{'_id': ObjectId('68a5646c6d0b2fb118f138e5'), 'log_type': 'advertools_error', 'log_id': 300, 'ip': '10.0.0.5', 'user': 'dave', 'timestamp': '16/Aug/2025:12:33:16 +0000', 'request': 'POST /static/app.js HTTP/2.0', 'status_code': 403, 'bytes': 1273, 'referer': None, 'user_agent': 'Mozilla/5.0 (Macintosh; Intel Mac OS X 10_15_7) AppleWebKit/605.1.15 (KHTML, like Gecko) Version/17.3 Safari/605.1.15', 'host': 'api.example.com', 'response_time': 3.183, 'error_message': 'list index out of range'}\n",
      "{'_id': ObjectId('68a5646c6d0b2fb118f13906'), 'log_type': 'advertools_error', 'log_id': 333, 'ip': '10.0.0.5', 'user': 'dave', 'timestamp': '16/Aug/2025:14:35:54 +0000', 'request': 'PATCH /search?q=python HTTP/1.1', 'status_code': 403, 'bytes': 2087, 'referer': 'https://www.bing.com/', 'user_agent': 'curl/8.6.0', 'host': 'example.com', 'response_time': 2.792, 'error_message': 'list index out of range'}\n",
      "{'_id': ObjectId('68a5646c6d0b2fb118f1390e'), 'log_type': 'advertools_error', 'log_id': 341, 'ip': '10.0.0.5', 'user': 'carol', 'timestamp': '17/Aug/2025:00:41:13 +0000', 'request': 'POST /healthz HTTP/2.0', 'status_code': 403, 'bytes': 4766, 'referer': 'https://example.com/landing', 'user_agent': 'Mozilla/5.0 (X11; Ubuntu; Linux x86_64; rv:125.0) Gecko/20100101 Firefox/125.0', 'host': 'shop.example.com', 'response_time': 0.56, 'error_message': 'list index out of range'}\n"
     ]
    }
   ],
   "source": [
    "query = {\"status_code\": 403, \"ip\": \"10.0.0.5\"}\n",
    "\n",
    "# 조건에 맞는 문서의 총 개수\n",
    "count = advertools_logs_collection.count_documents(query)\n",
    "print(f\"총 {count}개의 문서가 있습니다.\")\n",
    "\n",
    "# 조회된 문서의 상위 3개 출력\n",
    "documents = advertools_logs_collection.find(query).limit(3)\n",
    "for doc in documents:\n",
    "    print(doc)"
   ]
  },
  {
   "cell_type": "markdown",
   "id": "cd0f937b-3ea2-4575-b48c-1e1d1e535da6",
   "metadata": {},
   "source": [
    "### 모든 문서의 총 개수"
   ]
  },
  {
   "cell_type": "code",
   "execution_count": 17,
   "id": "013f4787-dd87-4ed5-b230-f301ae88ebd1",
   "metadata": {},
   "outputs": [
    {
     "name": "stdout",
     "output_type": "stream",
     "text": [
      "\n",
      "컬렉션 내 모든 문서의 총 개수\n",
      "'advertools_error_logs' 컬렉션에 총 300개의 문서가 저장되어 있습니다.\n"
     ]
    }
   ],
   "source": [
    "print(\"\\n컬렉션 내 모든 문서의 총 개수\")\n",
    "total_count = advertools_logs_collection.count_documents({})\n",
    "print(f\"'advertools_error_logs' 컬렉션에 총 {total_count}개의 문서가 저장되어 있습니다.\")"
   ]
  },
  {
   "cell_type": "markdown",
   "id": "10b853f9-3623-49f4-b719-3ff4e8f62f08",
   "metadata": {},
   "source": [
    "## 수정 예제"
   ]
  },
  {
   "cell_type": "markdown",
   "id": "df0e70ec-757d-4103-9fba-ecabdaa7f52e",
   "metadata": {},
   "source": [
    "### 수정할 원본 문서 조회"
   ]
  },
  {
   "cell_type": "code",
   "execution_count": 18,
   "id": "9e445eb4-ed97-4b16-b4c6-cc7727f64350",
   "metadata": {},
   "outputs": [
    {
     "name": "stdout",
     "output_type": "stream",
     "text": [
      "수정할 'incomplete' 로그 원본을 조회합니다.\n",
      "원본 문서: {'_id': ObjectId('68a5646c6d0b2fb118f138da'), 'log_type': 'incomplete', 'user_agent': 'Mozilla/5.0 (Macintosh; Intel Mac OS X 10_15_7) AppleWebKit/605.1.15 (KHTML, like Gecko) Version/17.3 Safari/605.1.15', 'status_code': 400}\n"
     ]
    }
   ],
   "source": [
    "import pymongo\n",
    "\n",
    "# 아직 안 닫음\n",
    "# MONGO_URI = \"mongodb://localhost:27017/\" \n",
    "# client = pymongo.MongoClient(MONGO_URI)\n",
    "\n",
    "DB_NAME = \"log_database\"\n",
    "ERROR_LOGS_COLLECTION = \"error_logs\"\n",
    "\n",
    "db = client[DB_NAME]\n",
    "error_logs_collection = db[ERROR_LOGS_COLLECTION]\n",
    "\n",
    "print(\"수정할 'incomplete' 로그 원본을 조회합니다.\")\n",
    "incomplete_doc = error_logs_collection.find_one({\"log_type\": \"incomplete\"})\n",
    "\n",
    "if incomplete_doc:\n",
    "    print(f\"원본 문서: {incomplete_doc}\")\n",
    "else:\n",
    "    print(\"수정할 'incomplete' 타입의 문서를 찾을 수 없습니다.\")"
   ]
  },
  {
   "cell_type": "markdown",
   "id": "b9fafef4-8421-41f3-afe5-ff9c7f21dd8d",
   "metadata": {},
   "source": [
    "### 원본 문서에 '수정됨' 플래그 추가"
   ]
  },
  {
   "cell_type": "code",
   "execution_count": 19,
   "id": "fd2d9cd3-77af-452d-b34d-fc1a682786bc",
   "metadata": {},
   "outputs": [
    {
     "name": "stdout",
     "output_type": "stream",
     "text": [
      "\n",
      " 원본 문서에 'is_modified' 플래그를 추가했습니다.\n",
      "수정된 원본 문서: {'_id': ObjectId('68a5646c6d0b2fb118f138da'), 'log_type': 'incomplete', 'user_agent': 'Mozilla/5.0 (Macintosh; Intel Mac OS X 10_15_7) AppleWebKit/605.1.15 (KHTML, like Gecko) Version/17.3 Safari/605.1.15', 'status_code': 400, 'is_modified': True, 'note': '이 문서는 수정본의 원본입니다.'}\n"
     ]
    }
   ],
   "source": [
    "if incomplete_doc:\n",
    "    original_doc_id = incomplete_doc['_id']\n",
    "    \n",
    "    # 원본 문서에 수정 플래그 추가\n",
    "    error_logs_collection.update_one(\n",
    "        {\"_id\": original_doc_id},\n",
    "        {\"$set\": {\"is_modified\": True, \"note\": \"이 문서는 수정본의 원본입니다.\"}}\n",
    "    )\n",
    "    print(\"\\n 원본 문서에 'is_modified' 플래그를 추가했습니다.\")\n",
    "    \n",
    "    # 변경된 원본 문서 확인\n",
    "    updated_original_doc = error_logs_collection.find_one({\"_id\": original_doc_id})\n",
    "    print(f\"수정된 원본 문서: {updated_original_doc}\")"
   ]
  },
  {
   "cell_type": "markdown",
   "id": "05d76f16-c840-4e60-81e8-85501e18d63a",
   "metadata": {},
   "source": [
    "### 새로운 필드를 추가하여 수정본 저장"
   ]
  },
  {
   "cell_type": "code",
   "execution_count": 20,
   "id": "d69aa953-c7e4-48db-91ff-296670daae20",
   "metadata": {},
   "outputs": [
    {
     "name": "stdout",
     "output_type": "stream",
     "text": [
      "\n",
      "새로운 수정본 문서를 저장했습니다. _id: 68a5646c6d0b2fb118f13a11\n",
      "새로 저장된 수정본: {'_id': ObjectId('68a5646c6d0b2fb118f13a11'), 'log_type': 'incomplete_modified', 'user_agent': 'Mozilla/5.0 (Macintosh; Intel Mac OS X 10_15_7) AppleWebKit/605.1.15 (KHTML, like Gecko) Version/17.3 Safari/605.1.15', 'status_code': 400, 'ip': '192.168.1.100', 'timestamp': '16/Aug/2025:12:33:16 +0000', 'source_doc_id': ObjectId('68a5646c6d0b2fb118f138da')}\n"
     ]
    }
   ],
   "source": [
    "if incomplete_doc:\n",
    "    # 수정된 데이터를 포함하는 새로운 문서 생성\n",
    "    modified_doc = incomplete_doc.copy()\n",
    "    modified_doc.pop('_id') # 새 문서이므로 _id 필드 제거\n",
    "    \n",
    "    modified_doc.update({\n",
    "        \"log_type\": \"incomplete_modified\", # 수정본임을 나타내는 새로운 타입\n",
    "        \"ip\": \"192.168.1.100\",           # 새로운 IP 정보 추가\n",
    "        \"timestamp\": \"16/Aug/2025:12:33:16 +0000\", # 새로운 타임스탬프 추가\n",
    "        \"source_doc_id\": original_doc_id # 원본 문서의 _id를 참조\n",
    "    })\n",
    "    \n",
    "    # 수정된 문서를 컬렉션에 삽입\n",
    "    result = error_logs_collection.insert_one(modified_doc)\n",
    "    print(f\"\\n새로운 수정본 문서를 저장했습니다. _id: {result.inserted_id}\")\n",
    "    \n",
    "    # 저장된 수정본 문서 확인\n",
    "    newly_inserted_doc = error_logs_collection.find_one({\"_id\": result.inserted_id})\n",
    "    print(f\"새로 저장된 수정본: {newly_inserted_doc}\")"
   ]
  },
  {
   "cell_type": "markdown",
   "id": "bf17160b-69be-4b62-bd9b-528053b1670f",
   "metadata": {},
   "source": [
    "### 원본문서와 수정본 문서 찾기"
   ]
  },
  {
   "cell_type": "code",
   "execution_count": 21,
   "id": "15ca9881-3250-4e36-8928-cba26e11a25b",
   "metadata": {},
   "outputs": [
    {
     "name": "stdout",
     "output_type": "stream",
     "text": [
      "원본 문서 (is_modified: True)를 찾습니다.\n",
      "\n",
      "수정본 문서를 찾습니다.\n",
      "원본과 수정본 문서를 모두 찾았습니다.\n"
     ]
    }
   ],
   "source": [
    "# 원본 문서 찾기 (수정 플래그가 있는 문서)\n",
    "print(\"원본 문서 (is_modified: True)를 찾습니다.\")\n",
    "original_doc = error_logs_collection.find_one({\"log_type\": \"incomplete\", \"is_modified\": True})\n",
    "\n",
    "# 수정본 문서 찾기 (원본의 _id를 참조하는 문서)\n",
    "print(\"\\n수정본 문서를 찾습니다.\")\n",
    "if original_doc:\n",
    "    modified_doc = error_logs_collection.find_one({\"log_type\": \"incomplete_modified\", \"source_doc_id\": original_doc['_id']})\n",
    "else:\n",
    "    modified_doc = None\n",
    "\n",
    "if original_doc and modified_doc:\n",
    "    print(\"원본과 수정본 문서를 모두 찾았습니다.\")\n",
    "else:\n",
    "    print(\"원본 또는 수정본 문서를 찾을 수 없습니다. 이전 단계를 다시 확인하세요.\")"
   ]
  },
  {
   "cell_type": "code",
   "execution_count": 22,
   "id": "3af2a1ad-6338-42f2-b28b-bd9e5d77a4e4",
   "metadata": {},
   "outputs": [
    {
     "name": "stdout",
     "output_type": "stream",
     "text": [
      "\n",
      "--- 원본 문서 ---\n",
      "{'_id': ObjectId('68a5646c6d0b2fb118f138da'), 'log_type': 'incomplete', 'user_agent': 'Mozilla/5.0 (Macintosh; Intel Mac OS X 10_15_7) AppleWebKit/605.1.15 (KHTML, like Gecko) Version/17.3 Safari/605.1.15', 'status_code': 400, 'is_modified': True, 'note': '이 문서는 수정본의 원본입니다.'}\n",
      "\n",
      "--- 수정본 문서 ---\n",
      "{'_id': ObjectId('68a5646c6d0b2fb118f13a11'), 'log_type': 'incomplete_modified', 'user_agent': 'Mozilla/5.0 (Macintosh; Intel Mac OS X 10_15_7) AppleWebKit/605.1.15 (KHTML, like Gecko) Version/17.3 Safari/605.1.15', 'status_code': 400, 'ip': '192.168.1.100', 'timestamp': '16/Aug/2025:12:33:16 +0000', 'source_doc_id': ObjectId('68a5646c6d0b2fb118f138da')}\n",
      "\n",
      "--- 주요 필드 비교 ---\n",
      "로그 타입: 원본='incomplete', 수정본='incomplete_modified'\n",
      "IP 필드: 원본에 없음, 수정본에 추가됨 ('192.168.1.100')\n",
      "타임스탬프 필드: 원본에 없음, 수정본에 추가됨 ('16/Aug/2025:12:33:16 +0000')\n",
      "원본 문서 ID: 68a5646c6d0b2fb118f138da\n",
      "수정본의 원본 참조 ID: 68a5646c6d0b2fb118f138da\n"
     ]
    }
   ],
   "source": [
    "if original_doc and modified_doc:\n",
    "    print(\"\\n--- 원본 문서 ---\")\n",
    "    print(original_doc)\n",
    "    \n",
    "    print(\"\\n--- 수정본 문서 ---\")\n",
    "    print(modified_doc)\n",
    "    \n",
    "    print(\"\\n--- 주요 필드 비교 ---\")\n",
    "    \n",
    "    # 1. log_type 필드 비교\n",
    "    print(f\"로그 타입: 원본='{original_doc.get('log_type')}', 수정본='{modified_doc.get('log_type')}'\")\n",
    "\n",
    "    # 2. IP 필드 추가 여부 확인\n",
    "    if 'ip' in modified_doc and 'ip' not in original_doc:\n",
    "        print(f\"IP 필드: 원본에 없음, 수정본에 추가됨 ('{modified_doc['ip']}')\")\n",
    "    \n",
    "    # 3. Timestamp 필드 추가 여부 확인\n",
    "    if 'timestamp' in modified_doc and 'timestamp' not in original_doc:\n",
    "        print(f\"타임스탬프 필드: 원본에 없음, 수정본에 추가됨 ('{modified_doc['timestamp']}')\")\n",
    "\n",
    "    # 4. _id 필드 참조 확인\n",
    "    print(f\"원본 문서 ID: {original_doc.get('_id')}\")\n",
    "    print(f\"수정본의 원본 참조 ID: {modified_doc.get('source_doc_id')}\")"
   ]
  },
  {
   "cell_type": "markdown",
   "id": "b8b2db5f-5e2c-4ad4-b97e-117d0fd06adf",
   "metadata": {},
   "source": [
    "## 문서, 컬렉션, DB 삭제 예제"
   ]
  },
  {
   "cell_type": "markdown",
   "id": "1f4084f5-31e9-480f-a491-ae60f76967ec",
   "metadata": {},
   "source": [
    "### MongoDB 연결 및 컬렉션 지정"
   ]
  },
  {
   "cell_type": "code",
   "execution_count": 23,
   "id": "672927ab-ca03-429b-82ee-1d8e36259711",
   "metadata": {},
   "outputs": [],
   "source": [
    "import pymongo\n",
    "\n",
    "DB_NAME = \"log_database\"\n",
    "ERROR_LOGS_COLLECTION = \"error_logs\"\n",
    "\n",
    "db = client[DB_NAME]\n",
    "error_logs_collection = db[ERROR_LOGS_COLLECTION]"
   ]
  },
  {
   "cell_type": "markdown",
   "id": "c3c82e1e-6195-4f65-bc23-c94163974ec3",
   "metadata": {},
   "source": [
    "### error_logs 컬렉션에서 수정본 문서 삭제"
   ]
  },
  {
   "cell_type": "code",
   "execution_count": 24,
   "id": "847ab0b0-0143-4d26-aad4-5862cf10a672",
   "metadata": {},
   "outputs": [
    {
     "name": "stdout",
     "output_type": "stream",
     "text": [
      "1개의 수정본 문서가 삭제되었습니다.\n",
      "현재 'error_logs' 컬렉션에 남아있는 문서 개수: 11\n"
     ]
    }
   ],
   "source": [
    "query = {\"log_type\": \"incomplete_modified\"}\n",
    "\n",
    "try:\n",
    "    result = error_logs_collection.delete_many(query)\n",
    "    print(f\"{result.deleted_count}개의 수정본 문서가 삭제되었습니다.\")\n",
    "    \n",
    "    # 삭제 후 남은 문서 개수 확인\n",
    "    remaining_count = error_logs_collection.count_documents({})\n",
    "    print(f\"현재 'error_logs' 컬렉션에 남아있는 문서 개수: {remaining_count}\")\n",
    "    \n",
    "except Exception as e:\n",
    "    print(f\"수정본 문서 삭제 중 오류 발생: {e}\")"
   ]
  },
  {
   "cell_type": "markdown",
   "id": "3eba7173-31dd-42e0-8620-5a83a0bc5b18",
   "metadata": {},
   "source": [
    "### error_logs 컬렉션 삭제"
   ]
  },
  {
   "cell_type": "code",
   "execution_count": 25,
   "id": "e2697e9f-f7ad-4a72-a3e5-bcd3c76931e3",
   "metadata": {},
   "outputs": [
    {
     "name": "stdout",
     "output_type": "stream",
     "text": [
      "\n",
      "'error_logs' 컬렉션을 삭제합니다.\n",
      "'error_logs' 컬렉션이 삭제되었습니다.\n"
     ]
    }
   ],
   "source": [
    "print(\"\\n'error_logs' 컬렉션을 삭제합니다.\")\n",
    "\n",
    "try:\n",
    "    error_logs_collection.drop()\n",
    "    print(\"'error_logs' 컬렉션이 삭제되었습니다.\")\n",
    "    \n",
    "except Exception as e:\n",
    "    print(f\"컬렉션 삭제 중 오류 발생: {e}\")"
   ]
  },
  {
   "cell_type": "markdown",
   "id": "c23aa30f-6bff-4172-9fd5-381557a19342",
   "metadata": {},
   "source": [
    "### 데이터베이스 삭제 및 연결 종료 "
   ]
  },
  {
   "cell_type": "code",
   "execution_count": 26,
   "id": "a5790bdc-3b0a-4979-acfe-bc39c9c3dde7",
   "metadata": {},
   "outputs": [
    {
     "name": "stdout",
     "output_type": "stream",
     "text": [
      "'log_database' 데이터베이스가 완전히 삭제되었습니다.\n",
      "\n",
      " 모든 작업이 완료되었습니다. MongoDB 연결을 종료합니다.\n"
     ]
    }
   ],
   "source": [
    "try:\n",
    "    client.drop_database(DB_NAME)\n",
    "    print(f\"'{DB_NAME}' 데이터베이스가 완전히 삭제되었습니다.\")\n",
    "    \n",
    "except Exception as e:\n",
    "    print(f\"데이터베이스 삭제 중 오류 발생: {e}\")\n",
    "\n",
    "# MongoDB 연결 종료\n",
    "client.close()\n",
    "print(\"\\n 모든 작업이 완료되었습니다. MongoDB 연결을 종료합니다.\")"
   ]
  },
  {
   "cell_type": "markdown",
   "id": "519ec559-07e9-417d-80d8-475ec0bd795d",
   "metadata": {},
   "source": [
    "### advertools_error_logs에 새로운 문서 추가"
   ]
  },
  {
   "cell_type": "code",
   "execution_count": 32,
   "id": "0e6003fd-053a-4168-b5dc-47768d2a87ed",
   "metadata": {},
   "outputs": [],
   "source": [
    "import pymongo\n",
    "from datetime import datetime\n",
    "\n",
    "MONGO_URI = \"mongodb://localhost:27017/\"\n",
    "DB_NAME = \"log_database\"\n",
    "ADVERTOOLS_LOGS_COLLECTION = \"advertools_error_logs\"\n",
    "\n",
    "client = pymongo.MongoClient(MONGO_URI)\n",
    "db = client[DB_NAME]\n",
    "advertools_logs_collection = db[ADVERTOOLS_LOGS_COLLECTION]"
   ]
  },
  {
   "cell_type": "code",
   "execution_count": 34,
   "id": "a82e9755-72a3-4776-a46b-44e2cd98f24c",
   "metadata": {},
   "outputs": [
    {
     "name": "stdout",
     "output_type": "stream",
     "text": [
      "새로운 임의의 로그 문서를 삽입합니다.\n",
      "문서가 성공적으로 삽입되었습니다. _id: 68a56ba86d0b2fb118f13b44\n",
      "\n",
      "삽입된 문서:\n",
      "{'_id': ObjectId('68a56ba86d0b2fb118f13b44'), 'log_type': 'advertools_error', 'log_id': 9999, 'ip': '203.0.113.42', 'user': 'test_user', 'timestamp': '20/Aug/2025:15:31:04 +0000', 'request': 'GET /api/data/123 HTTP/2.0', 'status_code': 500, 'bytes': 512, 'referer': '-', 'user_agent': 'Mozilla/5.0 (Windows NT 10.0; Win64; x64) AppleWebKit/537.36', 'host': 'api.example.com', 'response_time': 0.521, 'error_message': 'Internal Server Error: Database connection failed'}\n"
     ]
    }
   ],
   "source": [
    "# 현재 시간을 'advertools' 로그 형식에 맞게 변환\n",
    "current_timestamp = datetime.now().strftime(\"%d/%b/%Y:%H:%M:%S +0000\")\n",
    "\n",
    "# 새로운 임의의 로그 문서\n",
    "new_log = {\n",
    "    \"log_type\": \"advertools_error\",\n",
    "    \"log_id\": 9999,\n",
    "    \"ip\": \"203.0.113.42\",\n",
    "    \"user\": \"test_user\",\n",
    "    \"timestamp\": current_timestamp,\n",
    "    \"request\": \"GET /api/data/123 HTTP/2.0\",\n",
    "    \"status_code\": 500,\n",
    "    \"bytes\": 512,\n",
    "    \"referer\": \"-\",\n",
    "    \"user_agent\": \"Mozilla/5.0 (Windows NT 10.0; Win64; x64) AppleWebKit/537.36\",\n",
    "    \"host\": \"api.example.com\",\n",
    "    \"response_time\": 0.521,\n",
    "    \"error_message\": \"Internal Server Error: Database connection failed\"\n",
    "}\n",
    "\n",
    "print(\"새로운 임의의 로그 문서를 삽입합니다.\")\n",
    "try:\n",
    "    result = advertools_logs_collection.insert_one(new_log)\n",
    "    print(f\"문서가 성공적으로 삽입되었습니다. _id: {result.inserted_id}\")\n",
    "\n",
    "    # 삽입된 문서가 올바르게 저장되었는지 확인\n",
    "    inserted_doc = advertools_logs_collection.find_one({\"_id\": result.inserted_id})\n",
    "    print(\"\\n삽입된 문서:\")\n",
    "    print(inserted_doc)\n",
    "\n",
    "except Exception as e:\n",
    "    print(f\"문서 삽입 중 오류 발생: {e}\")"
   ]
  },
  {
   "cell_type": "markdown",
   "id": "47317af6-4db4-463a-8556-6c1571e56ee4",
   "metadata": {},
   "source": [
    "### 특정 기간 동안의 로그 삭제하기"
   ]
  },
  {
   "cell_type": "code",
   "execution_count": 35,
   "id": "defe474d-124f-40fe-9ca8-0d9e362e1b55",
   "metadata": {},
   "outputs": [
    {
     "name": "stdout",
     "output_type": "stream",
     "text": [
      "🧹 기존 'advertools_error_logs' 컬렉션을 삭제합니다.\n",
      "컬렉션이 성공적으로 삭제되었습니다.\n",
      "\n",
      " './data/advertools_error_logs.txt' 파일을 파싱하여 새로운 데이터를 삽입합니다.\n",
      "300개의 문서가 성공적으로 삽입되었습니다.\n",
      "현재 'advertools_error_logs' 컬렉션의 문서 개수: 300\n",
      "\n",
      "특정 기간의 로그를 삭제합니다.\n",
      "127개의 문서가 성공적으로 삭제되었습니다.\n",
      "현재 'advertools_error_logs' 컬렉션에 남아있는 문서 개수: 173\n",
      "\n",
      "모든 작업이 완료되었습니다. MongoDB 연결을 종료합니다.\n"
     ]
    }
   ],
   "source": [
    "import pymongo\n",
    "import re\n",
    "from datetime import datetime\n",
    "\n",
    "# MongoDB 연결 및 컬렉션 지정\n",
    "MONGO_URI = \"mongodb://localhost:27017/\"\n",
    "DB_NAME = \"log_database\"\n",
    "ADVERTOOLS_LOGS_COLLECTION = \"advertools_error_logs\"\n",
    "\n",
    "client = pymongo.MongoClient(MONGO_URI)\n",
    "db = client[DB_NAME]\n",
    "advertools_logs_collection = db[ADVERTOOLS_LOGS_COLLECTION]\n",
    "\n",
    "# --- 1. 컬렉션 삭제 (재시작) ---\n",
    "print(\"🧹 기존 'advertools_error_logs' 컬렉션을 삭제합니다.\")\n",
    "advertools_logs_collection.drop()\n",
    "print(\"컬렉션이 성공적으로 삭제되었습니다.\")\n",
    "\n",
    "# --- 2. 데이터 파싱 함수 정의 ---\n",
    "def parse_advertools_logs(file_path):\n",
    "    \"\"\"\n",
    "    advertools_error_logs.txt 파일을 파싱하여 JSON 문서 리스트로 반환합니다.\n",
    "    이때 timestamp 필드는 datetime 객체로 변환됩니다.\n",
    "    \"\"\"\n",
    "    logs = []\n",
    "    date_format = \"%d/%b/%Y:%H:%M:%S +0000\"\n",
    "\n",
    "    with open(file_path, 'r', encoding='utf-8') as f:\n",
    "        for line in f:\n",
    "            line = line.strip()\n",
    "            if not line:\n",
    "                continue\n",
    "\n",
    "            parts = line.split(\"@@\")\n",
    "            if len(parts) == 3:\n",
    "                log_id = parts[0]\n",
    "                log_data = parts[1]\n",
    "                error_message = parts[2]\n",
    "\n",
    "                match = re.match(r'^(\\S+) - (\\S+) \\[([^\\]]+)\\] \"([^\"]+)\" (\\d{3}) (\\S+) \"([^\"]*)\" \"([^\"]*)\" \"([^\"]+)\" (\\S+)$', log_data)\n",
    "                \n",
    "                if match:\n",
    "                    timestamp_str = match.group(3)\n",
    "                    \n",
    "                    try:\n",
    "                        timestamp_obj = datetime.strptime(timestamp_str, date_format)\n",
    "                    except ValueError:\n",
    "                        timestamp_obj = timestamp_str\n",
    "\n",
    "                    logs.append({\n",
    "                        \"log_type\": \"advertools_error\",\n",
    "                        \"log_id\": int(log_id) if log_id.isdigit() else log_id,\n",
    "                        \"ip\": match.group(1),\n",
    "                        \"user\": match.group(2),\n",
    "                        \"timestamp\": timestamp_obj, # datetime 객체로 저장\n",
    "                        \"request\": match.group(4),\n",
    "                        \"status_code\": int(match.group(5)),\n",
    "                        \"bytes\": int(match.group(6)) if match.group(6).isdigit() else match.group(6),\n",
    "                        \"referer\": match.group(7) if match.group(7) != '-' else None,\n",
    "                        \"user_agent\": match.group(8) if match.group(8) != '-' else None,\n",
    "                        \"host\": match.group(9),\n",
    "                        \"response_time\": float(match.group(10)) if match.group(10).replace('.', '', 1).isdigit() else match.group(10),\n",
    "                        \"error_message\": error_message\n",
    "                    })\n",
    "    return logs\n",
    "\n",
    "# --- 3. 데이터 재삽입 ---\n",
    "print(\"\\n './data/advertools_error_logs.txt' 파일을 파싱하여 새로운 데이터를 삽입합니다.\")\n",
    "file_path = \"./data/advertools_error_logs.txt\"  # 실제 파일 경로로 변경해주세요.\n",
    "advertools_logs_data = parse_advertools_logs(file_path)\n",
    "\n",
    "if advertools_logs_data:\n",
    "    advertools_logs_collection.insert_many(advertools_logs_data)\n",
    "    print(f\"{len(advertools_logs_data)}개의 문서가 성공적으로 삽입되었습니다.\")\n",
    "    print(f\"현재 'advertools_error_logs' 컬렉션의 문서 개수: {advertools_logs_collection.count_documents({})}\")\n",
    "else:\n",
    "    print(\"파싱할 데이터를 찾을 수 없습니다. 파일 경로를 확인해주세요.\")\n",
    "\n",
    "# --- 4. datetime 객체로 날짜 기반 삭제 ---\n",
    "print(\"\\n특정 기간의 로그를 삭제합니다.\")\n",
    "\n",
    "# 삭제 기간 정의: 2025년 8월 17일 10시 00분부터 2025년 8월 19일 15시 00분까지\n",
    "start_date = datetime(2025, 8, 17, 10, 0, 0)\n",
    "end_date = datetime(2025, 8, 19, 15, 0, 0)\n",
    "\n",
    "# 삭제 쿼리\n",
    "query = {\n",
    "    \"timestamp\": {\n",
    "        \"$gte\": start_date,\n",
    "        \"$lt\": end_date\n",
    "    }\n",
    "}\n",
    "\n",
    "try:\n",
    "    result = advertools_logs_collection.delete_many(query)\n",
    "    print(f\"{result.deleted_count}개의 문서가 성공적으로 삭제되었습니다.\")\n",
    "    \n",
    "    # 삭제 후 남은 문서 개수 확인\n",
    "    remaining_count = advertools_logs_collection.count_documents({})\n",
    "    print(f\"현재 'advertools_error_logs' 컬렉션에 남아있는 문서 개수: {remaining_count}\")\n",
    "\n",
    "except Exception as e:\n",
    "    print(f\"문서 삭제 중 오류 발생: {e}\")\n",
    "\n",
    "# MongoDB 연결 종료\n",
    "client.close()\n",
    "print(\"\\n모든 작업이 완료되었습니다. MongoDB 연결을 종료합니다.\")"
   ]
  },
  {
   "cell_type": "markdown",
   "id": "993d6591-fad8-4f30-9a2b-ddb05fb689d8",
   "metadata": {},
   "source": [
    "## 데이터베이스 삭제 및 연결 종료 "
   ]
  },
  {
   "cell_type": "code",
   "execution_count": 36,
   "id": "271ff593-55c2-42b9-a18d-9357104883ae",
   "metadata": {},
   "outputs": [
    {
     "name": "stdout",
     "output_type": "stream",
     "text": [
      "\n",
      "Current databases: ['admin', 'config', 'local', 'log_database']\n"
     ]
    }
   ],
   "source": [
    "import pymongo\n",
    "\n",
    "MONGO_URI = \"mongodb://localhost:27017/\"\n",
    "\n",
    "try:\n",
    "    # Connect to MongoDB client\n",
    "    client = pymongo.MongoClient(MONGO_URI)\n",
    "    database_names = client.list_database_names()\n",
    "    print(f\"\\nCurrent databases: {database_names}\")\n",
    "    \n",
    "except pymongo.errors.ConnectionFailure as e:\n",
    "    print(f\"Connection error: {e}\")"
   ]
  },
  {
   "cell_type": "code",
   "execution_count": 37,
   "id": "58b91abb-f7b7-4d9c-91d0-83ea683e9368",
   "metadata": {},
   "outputs": [
    {
     "name": "stdout",
     "output_type": "stream",
     "text": [
      "\n",
      " Deleting all non-system databases...\n",
      " Skipping system database 'admin'.\n",
      " Skipping system database 'config'.\n",
      " Skipping system database 'local'.\n",
      " Database 'log_database' has been deleted.\n",
      "\n",
      " Databases remaining: ['admin', 'config', 'local']\n",
      "\n",
      " Connection closed. All operations completed.\n"
     ]
    }
   ],
   "source": [
    "# System databases to be skipped\n",
    "system_databases = [\"admin\", \"config\", \"local\"]\n",
    "\n",
    "if database_names:\n",
    "    print(\"\\n Deleting all non-system databases...\")\n",
    "    for db_name in database_names:\n",
    "        if db_name not in system_databases:\n",
    "            client.drop_database(db_name)\n",
    "            print(f\" Database '{db_name}' has been deleted.\")\n",
    "        else:\n",
    "            print(f\" Skipping system database '{db_name}'.\")\n",
    "\n",
    "    # Verify deletion by listing databases again\n",
    "    remaining_databases = client.list_database_names()\n",
    "    print(f\"\\n Databases remaining: {remaining_databases}\")\n",
    "\n",
    "# Close the connection\n",
    "client.close()\n",
    "print(\"\\n Connection closed. All operations completed.\")"
   ]
  }
 ],
 "metadata": {
  "kernelspec": {
   "display_name": "Python 3 (ipykernel)",
   "language": "python",
   "name": "python3"
  },
  "language_info": {
   "codemirror_mode": {
    "name": "ipython",
    "version": 3
   },
   "file_extension": ".py",
   "mimetype": "text/x-python",
   "name": "python",
   "nbconvert_exporter": "python",
   "pygments_lexer": "ipython3",
   "version": "3.11.13"
  }
 },
 "nbformat": 4,
 "nbformat_minor": 5
}
