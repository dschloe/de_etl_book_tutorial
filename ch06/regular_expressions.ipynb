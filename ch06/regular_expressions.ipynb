{
 "cells": [
  {
   "cell_type": "markdown",
   "id": "186e9415-2a23-4628-9ee1-33b805822a25",
   "metadata": {},
   "source": [
    "# 메타문자"
   ]
  },
  {
   "cell_type": "code",
   "execution_count": 1,
   "id": "f8cd7fd7-a1cd-45ef-9c96-3d9f83b1f9bf",
   "metadata": {},
   "outputs": [
    {
     "name": "stdout",
     "output_type": "stream",
     "text": [
      "['a_b']\n",
      "['$']\n"
     ]
    }
   ],
   "source": [
    "import re\n",
    "\n",
    "text = \"apple, banana, a_b\"\n",
    "# 'a'와 'b' 사이에 어떤 문자든 오는 패턴 찾기\n",
    "pattern = \"a.b\"\n",
    "print(re.findall(pattern, text)) # ['a_b']\n",
    "\n",
    "# '$' 문자 자체를 찾기 위해 '\\' 사용\n",
    "text_with_dollar = \"price: $100\"\n",
    "pattern_dollar = r'\\$'\n",
    "print(re.findall(pattern_dollar, text_with_dollar)) # ['$']"
   ]
  },
  {
   "cell_type": "markdown",
   "id": "c941ccf8-4227-4bc6-99d1-0d7963faef81",
   "metadata": {},
   "source": [
    "# 문자 클래스"
   ]
  },
  {
   "cell_type": "code",
   "execution_count": 5,
   "id": "139b1aac-3715-4055-8912-679708f9c76d",
   "metadata": {},
   "outputs": [
    {
     "name": "stdout",
     "output_type": "stream",
     "text": [
      "['010-1234-5678']\n",
      "['0', '1', '0', '-', '1', '2', '3', '4', '-', '5', '6', '7', '8']\n",
      "['-', '!']\n"
     ]
    }
   ],
   "source": [
    "import re\n",
    "\n",
    "text = \"The phone number is 010-1234-5678.\"\n",
    "\n",
    "# '010' 다음 '숫자 4개'를 찾기\n",
    "# '\\d'는 숫자([0-9])와 동일\n",
    "pattern = r\"010-\\d{4}-\\d{4}\"\n",
    "print(re.findall(pattern, text)) # ['010-1234-5678']\n",
    "\n",
    "# 숫자와 하이픈만 찾기\n",
    "pattern_digits_hyphen = r'[\\d-]'\n",
    "print(re.findall(pattern_digits_hyphen, text)) # ['0', '1', '0', '-', '1', '2', '3', '4', '-', '5', '6', '7', '8']\n",
    "\n",
    "# 단어 문자가 아닌 문자(\\W) 찾기\n",
    "text_special = \"Hello-World!\"\n",
    "pattern_non_word = r'\\W'\n",
    "print(re.findall(pattern_non_word, text_special)) # ['-', '!']"
   ]
  },
  {
   "cell_type": "markdown",
   "id": "22cac60e-8a99-4a1d-824f-7ed4b5c16021",
   "metadata": {},
   "source": [
    "# 앵커"
   ]
  },
  {
   "cell_type": "code",
   "execution_count": 3,
   "id": "dbda12e3-a5af-453f-92de-bd61f2571fc5",
   "metadata": {},
   "outputs": [
    {
     "name": "stdout",
     "output_type": "stream",
     "text": [
      "'apple pie'는 'apple'로 시작합니다.\n",
      "'apple juice'는 'apple'로 시작합니다.\n",
      "'pineapple'는 'apple'로 끝납니다.\n"
     ]
    }
   ],
   "source": [
    "import re\n",
    "\n",
    "text_list = [\"apple pie\", \"apple juice\", \"pineapple\"]\n",
    "\n",
    "# 'apple'로 시작하는 문자열 찾기\n",
    "for text in text_list:\n",
    "    if re.search(r'^apple', text):\n",
    "        print(f\"'{text}'는 'apple'로 시작합니다.\")\n",
    "\n",
    "# 'apple'로 끝나는 문자열 찾기\n",
    "for text in text_list:\n",
    "    if re.search(r'apple$', text):\n",
    "        print(f\"'{text}'는 'apple'로 끝납니다.\")"
   ]
  },
  {
   "cell_type": "markdown",
   "id": "86e3f29b-4966-43be-ba7e-d9b2f99e75fc",
   "metadata": {},
   "source": [
    "# 반복"
   ]
  },
  {
   "cell_type": "code",
   "execution_count": 4,
   "id": "a77572d7-be01-4397-b73a-aa3803d17a85",
   "metadata": {},
   "outputs": [
    {
     "name": "stdout",
     "output_type": "stream",
     "text": [
      "['caaat', 'caat', 'cat']\n",
      "['cat', 'ct']\n"
     ]
    }
   ],
   "source": [
    "import re\n",
    "\n",
    "text = \"caaat, caat, cat, ct\"\n",
    "\n",
    "# 'a'가 1번 이상 반복되는 'cat' 찾기\n",
    "pattern = r\"ca+t\"\n",
    "print(re.findall(pattern, text)) # ['caaat', 'caat', 'cat']\n",
    "\n",
    "# 'a'가 0번 또는 1번 반복되는 'cat' 찾기\n",
    "pattern_q = r\"ca?t\"\n",
    "print(re.findall(pattern_q, text)) # ['cat', 'ct']"
   ]
  }
 ],
 "metadata": {
  "kernelspec": {
   "display_name": "Python 3 (ipykernel)",
   "language": "python",
   "name": "python3"
  },
  "language_info": {
   "codemirror_mode": {
    "name": "ipython",
    "version": 3
   },
   "file_extension": ".py",
   "mimetype": "text/x-python",
   "name": "python",
   "nbconvert_exporter": "python",
   "pygments_lexer": "ipython3",
   "version": "3.11.13"
  }
 },
 "nbformat": 4,
 "nbformat_minor": 5
}
