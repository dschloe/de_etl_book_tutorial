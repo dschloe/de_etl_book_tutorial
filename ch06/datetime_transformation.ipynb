{
 "cells": [
  {
   "cell_type": "markdown",
   "id": "98d7831a-2d90-4d6f-a63c-18fcc4884516",
   "metadata": {},
   "source": [
    "# 날짜 및 시간 데이터 처리 - datetime.date"
   ]
  },
  {
   "cell_type": "code",
   "execution_count": 12,
   "id": "b1e9291b-1339-43ab-b354-527f06f3b171",
   "metadata": {},
   "outputs": [
    {
     "name": "stdout",
     "output_type": "stream",
     "text": [
      "2025 8 12\n",
      "True\n",
      "365\n"
     ]
    }
   ],
   "source": [
    "from datetime import date\n",
    "\n",
    "# 생성 & 속성\n",
    "d = date(2025, 8, 12)\n",
    "print(d.year, d.month, d.day)   # 2025 8 12\n",
    "\n",
    "# 오늘\n",
    "today = date.today()\n",
    "\n",
    "# 교체(replace)와 비교/산술\n",
    "d_next_year = d.replace(year=2026)\n",
    "print(d_next_year > d)          # True\n",
    "\n",
    "# 날짜 차이는 timedelta\n",
    "delta = d_next_year - d\n",
    "print(delta.days)               # 365(윤년에 따라 366일일 수도 있다)"
   ]
  },
  {
   "cell_type": "markdown",
   "id": "2a9a302f-39ca-4def-b57f-77b3cb49abd4",
   "metadata": {},
   "source": [
    "# 날짜 및 시간 데이터 처리 - datetime.time"
   ]
  },
  {
   "cell_type": "code",
   "execution_count": 1,
   "id": "7ef58bb4-b550-4b62-a691-d3203c48a565",
   "metadata": {},
   "outputs": [
    {
     "name": "stdout",
     "output_type": "stream",
     "text": [
      "14 30 5 123456\n",
      "14:30:00+00:00\n"
     ]
    }
   ],
   "source": [
    "from datetime import time, timezone\n",
    "\n",
    "# 시, 분, 초, 마이크로초, tzinfo(선택)\n",
    "t = time(14, 30, 5, 123456)\n",
    "print(t.hour, t.minute, t.second, t.microsecond)  # 14 30 5 123456\n",
    "\n",
    "# 시간대 보유(time 자체에 tzinfo 가능하지만, 단독 활용성은 제한적)\n",
    "t_utc = time(14, 30, tzinfo=timezone.utc)\n",
    "print(t_utc.isoformat())        # '14:30:00+00:00'"
   ]
  },
  {
   "cell_type": "markdown",
   "id": "2ccc3b86-df47-4ad7-92fa-2afcbbe28b7c",
   "metadata": {},
   "source": [
    "# 날짜 및 시간 데이터 처리 - datetime.datetime"
   ]
  },
  {
   "cell_type": "code",
   "execution_count": 2,
   "id": "4742b77a-4dac-4f53-b3de-fa11d8083af7",
   "metadata": {},
   "outputs": [
    {
     "name": "stdout",
     "output_type": "stream",
     "text": [
      "2025-08-12 06:45:25.117471+00:00\n",
      "2025-08-12 15:45:25.117471+09:00\n",
      "2 3\n",
      "2024-09-30 08:15:00\n",
      "11 1000800.0\n"
     ]
    }
   ],
   "source": [
    "from datetime import datetime, timedelta, timezone\n",
    "from zoneinfo import ZoneInfo  # Python 3.9+\n",
    "\n",
    "# 현재 시각(UTC 권장)\n",
    "now_utc = datetime.now(timezone.utc)\n",
    "print(now_utc)\n",
    "\n",
    "# 시간대 변환 (Seoul)\n",
    "now_seoul = now_utc.astimezone(ZoneInfo(\"Asia/Seoul\"))\n",
    "print(now_seoul)\n",
    "\n",
    "# 명시적 생성(서울 시간대)\n",
    "dt = datetime(2025, 1, 1, 9, 0, tzinfo=ZoneInfo(\"Asia/Seoul\"))\n",
    "\n",
    "# 요일: weekday() 월=0..일=6, isoweekday() 월=1..일=7\n",
    "print(dt.weekday(), dt.isoweekday())  # 2 3 (예시)\n",
    "\n",
    "# 파싱/포맷\n",
    "parsed = datetime.strptime(\"2024-09-30 08:15\", \"%Y-%m-%d %H:%M\")\n",
    "print(parsed.strftime(\"%Y-%m-%d %H:%M:%S\"))  # '2024-09-30 08:15:00'\n",
    "\n",
    "# 두 datetime 차이\n",
    "start = datetime(2025, 8, 1, 0, 0, tzinfo=ZoneInfo(\"Asia/Seoul\"))\n",
    "end   = datetime(2025, 8, 12, 14, 0, tzinfo=ZoneInfo(\"Asia/Seoul\"))\n",
    "gap = end - start\n",
    "print(gap.days, gap.total_seconds())  # 일수, 총 초"
   ]
  },
  {
   "cell_type": "markdown",
   "id": "8f012e4e-9b03-4d6b-b4d1-fca67da5f74a",
   "metadata": {},
   "source": [
    "# timedelta: 기간(차이) 다루기"
   ]
  },
  {
   "cell_type": "code",
   "execution_count": 15,
   "id": "32ac37ad-40b2-4947-bd2a-4bdfeeb6761b",
   "metadata": {},
   "outputs": [
    {
     "name": "stdout",
     "output_type": "stream",
     "text": [
      "2 days, 3:30:00\n",
      "2025-08-14 13:30:00\n",
      "2.1458333333333335\n",
      "4 days, 7:00:00\n"
     ]
    }
   ],
   "source": [
    "from datetime import datetime, timedelta\n",
    "\n",
    "td = timedelta(days=2, hours=3, minutes=30)\n",
    "print(td)                        # 2 days, 3:30:00\n",
    "\n",
    "base = datetime(2025, 8, 12, 10, 0)\n",
    "after = base + td                # 덧셈/뺄셈 가능\n",
    "print(after)                     # 2025-08-14 13:30:00\n",
    "\n",
    "# 일 단위 부동소수점 환산\n",
    "days = td / timedelta(days=1)    # 2.145833...\n",
    "print(days)\n",
    "\n",
    "# 정수 배 스케일링\n",
    "double = 2 * td                  # 4 days, 7:00:00\n",
    "print(double)"
   ]
  },
  {
   "cell_type": "markdown",
   "id": "4ffbcf0c-dbba-4d59-8791-d4ddd3da8145",
   "metadata": {},
   "source": [
    "# datetime 생성/포맷팅/산술 코드 "
   ]
  },
  {
   "cell_type": "code",
   "execution_count": 3,
   "id": "6f0a8d13-6d94-48ea-83bb-1a8e00151234",
   "metadata": {},
   "outputs": [
    {
     "name": "stdout",
     "output_type": "stream",
     "text": [
      "[직접 생성] 2023-10-26 14:30:00 2023-10-26 14:30:00\n",
      "[ISO 파싱] 2023-10-26 2023-10-26 14:30:00\n",
      "[time ISO] 14:30:00.123456\n",
      "[포맷팅] 2023-10-26 14:30:00\n",
      "[파싱] 2024-09-30 08:15:00\n",
      "[산술] 날짜+7일: 2023-11-02 | datetime-90분: 2023-10-26 13:00:00\n",
      "[차이] days: 25 | total_seconds: 2179800\n",
      "[timedelta] 2 days, 3:30:00 | 일 단위: 2.1458333333333335\n",
      "[속성] year/month/day: 2023 10 26\n",
      "[속성] hour/minute/second: 14 30 0\n",
      "[요일] weekday(월=0): 3 | isoweekday(월=1): 4\n",
      "[replace] 연도만 변경: 2024-10-26 14:30:00\n"
     ]
    }
   ],
   "source": [
    "from datetime import date, time, datetime, timedelta\n",
    "\n",
    "# ---------------------------------------------------------------------\n",
    "# 1) 생성 (Constructor / ISO 파싱)\n",
    "# ---------------------------------------------------------------------\n",
    "\n",
    "# 1-1. 숫자 인수로 직접 생성\n",
    "d = date(2023, 10, 26)\n",
    "t = time(14, 30, 0)                   # 14:30:00\n",
    "dt = datetime(2023, 10, 26, 14, 30)   # 2023-10-26 14:30:00\n",
    "\n",
    "print(\"[직접 생성]\", d, t, dt)\n",
    "# [직접 생성] 2023-10-26 14:30:00 2023-10-26 14:30:00\n",
    "\n",
    "# 1-2. ISO 문자열 -> fromisoformat()\n",
    "d_iso = date.fromisoformat(\"2023-10-26\")             # 'YYYY-MM-DD'\n",
    "dt_iso = datetime.fromisoformat(\"2023-10-26 14:30:00\")  # 공백 또는 'T' 허용\n",
    "print(\"[ISO 파싱]\", d_iso, dt_iso)\n",
    "# [ISO 파싱] 2023-10-26 2023-10-26 14:30:00\n",
    "\n",
    "# time에도 fromisoformat 사용 가능\n",
    "t_iso = time.fromisoformat(\"14:30:00.123456\")\n",
    "print(\"[time ISO]\", t_iso)\n",
    "# [time ISO] 14:30:00.123456\n",
    "\n",
    "# ---------------------------------------------------------------------\n",
    "# 2) 포맷팅(strftime) / 파싱(strptime)\n",
    "# ---------------------------------------------------------------------\n",
    "\n",
    "# 2-1. datetime -> 문자열 (strftime)\n",
    "fmt = \"%Y-%m-%d %H:%M:%S\"\n",
    "s = dt.strftime(fmt)\n",
    "print(\"[포맷팅]\", s)\n",
    "# [포맷팅] 2023-10-26 14:30:00\n",
    "\n",
    "# 2-2. 문자열 -> datetime (strptime)\n",
    "s2 = \"2024-09-30 08:15:00\"\n",
    "dt_parsed = datetime.strptime(s2, fmt)\n",
    "print(\"[파싱]\", dt_parsed)\n",
    "# [파싱] 2024-09-30 08:15:00\n",
    "\n",
    "# 포맷 코드 예: %Y=연, %m=월, %d=일, %H=시(00-23), %M=분, %S=초\n",
    "\n",
    "# ---------------------------------------------------------------------\n",
    "# 3) 산술 연산 (timedelta)\n",
    "# ---------------------------------------------------------------------\n",
    "\n",
    "# 3-1. 더하기/빼기: date 혹은 datetime ± timedelta\n",
    "one_week = timedelta(days=7)\n",
    "d_plus_7 = d + one_week\n",
    "dt_minus_90m = dt - timedelta(minutes=90)\n",
    "print(\"[산술] 날짜+7일:\", d_plus_7, \"| datetime-90분:\", dt_minus_90m)\n",
    "# [산술] 날짜+7일: 2023-11-02 | datetime-90분: 2023-10-26 13:00:00\n",
    "\n",
    "# 3-2. 두 datetime의 차이 -> timedelta\n",
    "start = datetime(2023, 10, 1, 9, 0, 0)\n",
    "end   = datetime(2023, 10, 26, 14, 30, 0)\n",
    "diff = end - start\n",
    "print(\"[차이] days:\", diff.days, \"| total_seconds:\", int(diff.total_seconds()))\n",
    "# [차이] days: 25 | total_seconds: 2190600\n",
    "\n",
    "# 3-3. timedelta 연산/스케일링\n",
    "td = timedelta(days=2, hours=3, minutes=30)\n",
    "print(\"[timedelta]\", td, \"| 일 단위:\", td / timedelta(days=1))\n",
    "# [timedelta] 2 days, 3:30:00 | 일 단위: 2.1458333333333335\n",
    "\n",
    "# ---------------------------------------------------------------------\n",
    "# 4) (선택) 속성 접근/유틸\n",
    "# ---------------------------------------------------------------------\n",
    "\n",
    "print(\"[속성] year/month/day:\", d.year, d.month, d.day)\n",
    "print(\"[속성] hour/minute/second:\", t.hour, t.minute, t.second)\n",
    "print(\"[요일] weekday(월=0):\", dt.weekday(), \"| isoweekday(월=1):\", dt.isoweekday())\n",
    "# [속성] year/month/day: 2023 10 26\n",
    "# [속성] hour/minute/second: 14 30 0\n",
    "# [요일] weekday(월=0): 3 | isoweekday(월=1): 4\n",
    "\n",
    "# 4-1. replace로 일부만 교체(불변 객체이므로 새 객체 반환)\n",
    "dt_next_year_same_time = dt.replace(year=2024)\n",
    "print(\"[replace] 연도만 변경:\", dt_next_year_same_time)\n",
    "# [replace] 연도만 변경: 2024-10-26 14:30:00\n"
   ]
  },
  {
   "cell_type": "markdown",
   "id": "7263279e-1799-491b-8983-b53375000409",
   "metadata": {},
   "source": [
    "# Pandas의 Timestamp 및 Timedelta 예제"
   ]
  },
  {
   "cell_type": "code",
   "execution_count": 7,
   "id": "b772a8dc-0202-4a62-abe4-5dd10a5895d5",
   "metadata": {},
   "outputs": [
    {
     "name": "stdout",
     "output_type": "stream",
     "text": [
      "숫자로 생성: 2024-08-12 10:30:00\n",
      "문자열로 생성: 2024-08-12 10:30:00\n",
      "유닉스 타임스탬프로 생성: 2024-08-12 13:10:00\n",
      "연도: 2024, 요일: Monday\n"
     ]
    }
   ],
   "source": [
    "import pandas as pd\n",
    "\n",
    "# 1. 숫자 구성 요소를 사용하여 생성\n",
    "ts_by_numbers = pd.Timestamp(2024, 8, 12, 10, 30)\n",
    "print(f\"숫자로 생성: {ts_by_numbers}\")\n",
    "\n",
    "# 2. 문자열로 생성\n",
    "ts_by_string = pd.Timestamp('2024-08-12 10:30:00')\n",
    "print(f\"문자열로 생성: {ts_by_string}\")\n",
    "\n",
    "# 3. 유닉스 타임스탬프(초 단위)로 생성\n",
    "ts_by_unix = pd.to_datetime(1723468200, unit='s')\n",
    "print(f\"유닉스 타임스탬프로 생성: {ts_by_unix}\")\n",
    "\n",
    "# 핵심 속성 접근\n",
    "print(f\"연도: {ts_by_numbers.year}, 요일: {ts_by_numbers.day_name()}\")"
   ]
  },
  {
   "cell_type": "markdown",
   "id": "981b11e3-a500-4237-9bb4-821d5746fcfe",
   "metadata": {},
   "source": [
    "# Timedelta 객체 생성 및 산술 연산"
   ]
  },
  {
   "cell_type": "code",
   "execution_count": 4,
   "id": "ea422410-5174-4b9f-a087-b297e9296f65",
   "metadata": {},
   "outputs": [
    {
     "name": "stdout",
     "output_type": "stream",
     "text": [
      "생성된 Timedelta:\n",
      "5 days 02:30:00\n",
      "\n",
      "5일 2시간 30분 후:\n",
      "2024-03-27 02:30:00\n",
      "\n",
      "두 시점 간의 차이:\n",
      "2 days 06:30:00\n",
      "\n"
     ]
    }
   ],
   "source": [
    "import pandas as pd\n",
    "\n",
    "# Timedelta 객체 생성\n",
    "td = pd.Timedelta(days=5, hours=2, minutes=30)\n",
    "print(f\"생성된 Timedelta:\\n{td}\\n\")\n",
    "\n",
    "# Timestamp에 Timedelta 더하기/빼기\n",
    "ts = pd.Timestamp('2024-03-22')\n",
    "ts_after = ts + td\n",
    "print(f\"5일 2시간 30분 후:\\n{ts_after}\\n\")\n",
    "\n",
    "# 두 Timestamp의 차이 계산\n",
    "ts_start = pd.Timestamp('2024-03-20 09:00')\n",
    "ts_end = pd.Timestamp('2024-03-22 15:30')\n",
    "duration = ts_end - ts_start\n",
    "print(f\"두 시점 간의 차이:\\n{duration}\\n\")"
   ]
  },
  {
   "cell_type": "markdown",
   "id": "737004aa-8bfe-486d-bab1-96a512322c9b",
   "metadata": {},
   "source": [
    "# Pandas DataFrame에서 시계열 데이터 준비"
   ]
  },
  {
   "cell_type": "code",
   "execution_count": 5,
   "id": "61dbf1ac-5d89-44b8-911c-0cf274ce5596",
   "metadata": {},
   "outputs": [
    {
     "name": "stdout",
     "output_type": "stream",
     "text": [
      "오류 처리 전:\n",
      " 0      2024-03-22\n",
      "1      2024/03/23\n",
      "2    invalid-date\n",
      "3      2024-03-25\n",
      "dtype: object\n",
      "\n",
      "오류 처리 후 (NaT로 변환):\n",
      " 0   2024-03-22\n",
      "1          NaT\n",
      "2          NaT\n",
      "3   2024-03-25\n",
      "dtype: datetime64[ns]\n"
     ]
    }
   ],
   "source": [
    "import pandas as pd\n",
    "\n",
    "# 잘못된 형식이 포함된 날짜 데이터\n",
    "date_series = pd.Series(['2024-03-22', '2024/03/23', 'invalid-date', '2024-03-25'])\n",
    "\n",
    "# errors='coerce'를 사용해 잘못된 값 처리\n",
    "clean_dates = pd.to_datetime(date_series, errors='coerce')\n",
    "print(\"오류 처리 전:\\n\", date_series)\n",
    "print(\"\\n오류 처리 후 (NaT로 변환):\\n\", clean_dates)"
   ]
  },
  {
   "cell_type": "markdown",
   "id": "116a9318-6f4c-4705-ab54-c570032d32ba",
   "metadata": {},
   "source": [
    "# DatetimeIndex를 활용한 시계열 DataFrame 생성 및 슬라이싱"
   ]
  },
  {
   "cell_type": "code",
   "execution_count": 6,
   "id": "516db1bb-00d3-4e8f-91de-6f76391ef68d",
   "metadata": {},
   "outputs": [
    {
     "name": "stdout",
     "output_type": "stream",
     "text": [
      "원본 DataFrame의 일부:\n",
      "             value\n",
      "2024-01-01      6\n",
      "2024-01-02     47\n",
      "2024-01-03     68\n",
      "2024-01-04     66\n",
      "2024-01-05     82\n",
      "\n",
      "2024년 1월 데이터:\n",
      "             value\n",
      "2024-01-01      6\n",
      "2024-01-02     47\n",
      "2024-01-03     68\n",
      "2024-01-04     66\n",
      "2024-01-05     82\n",
      "\n",
      "2월 15일부터 20일까지의 데이터:\n",
      "             value\n",
      "2024-02-15     28\n",
      "2024-02-16      4\n",
      "2024-02-17     44\n",
      "2024-02-18     36\n",
      "2024-02-19     33\n",
      "2024-02-20     52\n"
     ]
    }
   ],
   "source": [
    "import pandas as pd\n",
    "import numpy as np\n",
    "\n",
    "# 임의의 시계열 데이터 생성\n",
    "dates = pd.date_range('2024-01-01', periods=100, freq='D')\n",
    "data = np.random.randint(1, 100, size=100)\n",
    "df = pd.DataFrame({'value': data}, index=dates)\n",
    "\n",
    "print(\"원본 DataFrame의 일부:\\n\", df.head())\n",
    "\n",
    "# DatetimeIndex를 이용한 슬라이싱\n",
    "# 2024년 1월 데이터 선택\n",
    "january_data = df.loc['2024-01']\n",
    "print(\"\\n2024년 1월 데이터:\\n\", january_data.head())\n",
    "\n",
    "# 2024년 2월 15일부터 20일까지의 데이터 선택\n",
    "feb_slice = df.loc['2024-02-15':'2024-02-20']\n",
    "print(\"\\n2월 15일부터 20일까지의 데이터:\\n\", feb_slice)"
   ]
  },
  {
   "cell_type": "markdown",
   "id": "d9b0ee98-2838-46c1-96f0-fb5ed41cdf90",
   "metadata": {},
   "source": [
    "# DatetimeIndex: 시계열 DataFrame의 초석"
   ]
  },
  {
   "cell_type": "code",
   "execution_count": 8,
   "id": "57c426cc-c6a3-4ae7-9f0d-a6b306d6b082",
   "metadata": {},
   "outputs": [
    {
     "name": "stdout",
     "output_type": "stream",
     "text": [
      "원본 DataFrame (일부):\n",
      "                  컬럼1       컬럼2\n",
      "2024-01-01  1.214814 -0.308477\n",
      "2024-01-02  0.778174  0.278353\n",
      "2024-01-03  1.127639  0.044161\n",
      "2024-01-04  0.793930 -0.248022\n",
      "2024-01-05 -0.995856  0.398784\n",
      "\n",
      "2024년 2월 데이터 (일부):\n",
      "                  컬럼1       컬럼2\n",
      "2024-02-01 -1.712177 -1.423068\n",
      "2024-02-02 -0.188229 -0.826394\n",
      "2024-02-03 -0.329011 -0.207715\n",
      "2024-02-04  1.943865  1.722075\n",
      "2024-02-05 -1.298734  0.150676\n",
      "\n",
      "1월 15일 ~ 3월 5일 데이터 (일부):\n",
      "                  컬럼1       컬럼2\n",
      "2024-01-15  0.353750  0.343467\n",
      "2024-01-16  0.330194  0.062035\n",
      "2024-01-17 -1.111314 -0.887502\n",
      "2024-01-18 -1.889161 -0.538003\n",
      "2024-01-19  1.359102  1.300417\n",
      "\n",
      "2024년 1분기 데이터 (일부):\n",
      "                  컬럼1       컬럼2\n",
      "2024-01-01  1.214814 -0.308477\n",
      "2024-01-02  0.778174  0.278353\n",
      "2024-01-03  1.127639  0.044161\n",
      "2024-01-04  0.793930 -0.248022\n",
      "2024-01-05 -0.995856  0.398784\n"
     ]
    }
   ],
   "source": [
    "import pandas as pd\n",
    "import numpy as np\n",
    "\n",
    "# 1. pd.date_range()를 사용해 DatetimeIndex 생성\n",
    "date_index = pd.date_range(start='2024-01-01', end='2024-03-31', freq='D')\n",
    "\n",
    "# 2. DatetimeIndex를 인덱스로 갖는 DataFrame 생성\n",
    "df = pd.DataFrame(\n",
    "    np.random.randn(len(date_index), 2),\n",
    "    index=date_index,\n",
    "    columns=['컬럼1', '컬럼2']\n",
    ")\n",
    "print(\"원본 DataFrame (일부):\\n\", df.head())\n",
    "\n",
    "# 3. DatetimeIndex의 강력한 슬라이싱 기능\n",
    "# 2024년 2월 전체 데이터 선택\n",
    "feb_data = df.loc['2024-02']\n",
    "print(\"\\n2024년 2월 데이터 (일부):\\n\", feb_data.head())\n",
    "\n",
    "# 특정 날짜 범위 선택 (시작점, 끝점 모두 포함)\n",
    "q1_data = df.loc['2024-01-15':'2024-03-05']\n",
    "print(\"\\n1월 15일 ~ 3월 5일 데이터 (일부):\\n\", q1_data.head())\n",
    "\n",
    "# 특정 분기 선택\n",
    "q1_data_by_quarter = df.loc['2024-Q1']\n",
    "print(\"\\n2024년 1분기 데이터 (일부):\\n\", q1_data_by_quarter.head())"
   ]
  },
  {
   "cell_type": "markdown",
   "id": "24ef1e63-0664-489a-870a-52e89ceb51fe",
   "metadata": {},
   "source": [
    "# Timedelta 및 TimedeltaIndex: 기간 표현"
   ]
  }
 ],
 "metadata": {
  "kernelspec": {
   "display_name": "Python 3 (ipykernel)",
   "language": "python",
   "name": "python3"
  },
  "language_info": {
   "codemirror_mode": {
    "name": "ipython",
    "version": 3
   },
   "file_extension": ".py",
   "mimetype": "text/x-python",
   "name": "python",
   "nbconvert_exporter": "python",
   "pygments_lexer": "ipython3",
   "version": "3.11.13"
  }
 },
 "nbformat": 4,
 "nbformat_minor": 5
}
