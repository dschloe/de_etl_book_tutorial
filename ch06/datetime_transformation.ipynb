{
 "cells": [
  {
   "cell_type": "markdown",
   "id": "98d7831a-2d90-4d6f-a63c-18fcc4884516",
   "metadata": {},
   "source": [
    "# 날짜 및 시간 데이터 처리 - datetime.date"
   ]
  },
  {
   "cell_type": "code",
   "execution_count": 12,
   "id": "b1e9291b-1339-43ab-b354-527f06f3b171",
   "metadata": {},
   "outputs": [
    {
     "name": "stdout",
     "output_type": "stream",
     "text": [
      "2025 8 12\n",
      "True\n",
      "365\n"
     ]
    }
   ],
   "source": [
    "from datetime import date\n",
    "\n",
    "# 생성 & 속성\n",
    "d = date(2025, 8, 12)\n",
    "print(d.year, d.month, d.day)   # 2025 8 12\n",
    "\n",
    "# 오늘\n",
    "today = date.today()\n",
    "\n",
    "# 교체(replace)와 비교/산술\n",
    "d_next_year = d.replace(year=2026)\n",
    "print(d_next_year > d)          # True\n",
    "\n",
    "# 날짜 차이는 timedelta\n",
    "delta = d_next_year - d\n",
    "print(delta.days)               # 365(윤년에 따라 366일일 수도 있다)"
   ]
  },
  {
   "cell_type": "markdown",
   "id": "2a9a302f-39ca-4def-b57f-77b3cb49abd4",
   "metadata": {},
   "source": [
    "# 날짜 및 시간 데이터 처리 - datetime.time"
   ]
  },
  {
   "cell_type": "code",
   "execution_count": 1,
   "id": "7ef58bb4-b550-4b62-a691-d3203c48a565",
   "metadata": {},
   "outputs": [
    {
     "name": "stdout",
     "output_type": "stream",
     "text": [
      "14 30 5 123456\n",
      "14:30:00+00:00\n"
     ]
    }
   ],
   "source": [
    "from datetime import time, timezone\n",
    "\n",
    "# 시, 분, 초, 마이크로초, tzinfo(선택)\n",
    "t = time(14, 30, 5, 123456)\n",
    "print(t.hour, t.minute, t.second, t.microsecond)  # 14 30 5 123456\n",
    "\n",
    "# 시간대 보유(time 자체에 tzinfo 가능하지만, 단독 활용성은 제한적)\n",
    "t_utc = time(14, 30, tzinfo=timezone.utc)\n",
    "print(t_utc.isoformat())        # '14:30:00+00:00'"
   ]
  },
  {
   "cell_type": "markdown",
   "id": "2ccc3b86-df47-4ad7-92fa-2afcbbe28b7c",
   "metadata": {},
   "source": [
    "# 날짜 및 시간 데이터 처리 - datetime.datetime"
   ]
  },
  {
   "cell_type": "code",
   "execution_count": 2,
   "id": "4742b77a-4dac-4f53-b3de-fa11d8083af7",
   "metadata": {},
   "outputs": [
    {
     "name": "stdout",
     "output_type": "stream",
     "text": [
      "2025-08-12 06:45:25.117471+00:00\n",
      "2025-08-12 15:45:25.117471+09:00\n",
      "2 3\n",
      "2024-09-30 08:15:00\n",
      "11 1000800.0\n"
     ]
    }
   ],
   "source": [
    "from datetime import datetime, timedelta, timezone\n",
    "from zoneinfo import ZoneInfo  # Python 3.9+\n",
    "\n",
    "# 현재 시각(UTC 권장)\n",
    "now_utc = datetime.now(timezone.utc)\n",
    "print(now_utc)\n",
    "\n",
    "# 시간대 변환 (Seoul)\n",
    "now_seoul = now_utc.astimezone(ZoneInfo(\"Asia/Seoul\"))\n",
    "print(now_seoul)\n",
    "\n",
    "# 명시적 생성(서울 시간대)\n",
    "dt = datetime(2025, 1, 1, 9, 0, tzinfo=ZoneInfo(\"Asia/Seoul\"))\n",
    "\n",
    "# 요일: weekday() 월=0..일=6, isoweekday() 월=1..일=7\n",
    "print(dt.weekday(), dt.isoweekday())  # 2 3 (예시)\n",
    "\n",
    "# 파싱/포맷\n",
    "parsed = datetime.strptime(\"2024-09-30 08:15\", \"%Y-%m-%d %H:%M\")\n",
    "print(parsed.strftime(\"%Y-%m-%d %H:%M:%S\"))  # '2024-09-30 08:15:00'\n",
    "\n",
    "# 두 datetime 차이\n",
    "start = datetime(2025, 8, 1, 0, 0, tzinfo=ZoneInfo(\"Asia/Seoul\"))\n",
    "end   = datetime(2025, 8, 12, 14, 0, tzinfo=ZoneInfo(\"Asia/Seoul\"))\n",
    "gap = end - start\n",
    "print(gap.days, gap.total_seconds())  # 일수, 총 초"
   ]
  },
  {
   "cell_type": "markdown",
   "id": "8f012e4e-9b03-4d6b-b4d1-fca67da5f74a",
   "metadata": {},
   "source": [
    "# timedelta: 기간(차이) 다루기"
   ]
  },
  {
   "cell_type": "code",
   "execution_count": 15,
   "id": "32ac37ad-40b2-4947-bd2a-4bdfeeb6761b",
   "metadata": {},
   "outputs": [
    {
     "name": "stdout",
     "output_type": "stream",
     "text": [
      "2 days, 3:30:00\n",
      "2025-08-14 13:30:00\n",
      "2.1458333333333335\n",
      "4 days, 7:00:00\n"
     ]
    }
   ],
   "source": [
    "from datetime import datetime, timedelta\n",
    "\n",
    "td = timedelta(days=2, hours=3, minutes=30)\n",
    "print(td)                        # 2 days, 3:30:00\n",
    "\n",
    "base = datetime(2025, 8, 12, 10, 0)\n",
    "after = base + td                # 덧셈/뺄셈 가능\n",
    "print(after)                     # 2025-08-14 13:30:00\n",
    "\n",
    "# 일 단위 부동소수점 환산\n",
    "days = td / timedelta(days=1)    # 2.145833...\n",
    "print(days)\n",
    "\n",
    "# 정수 배 스케일링\n",
    "double = 2 * td                  # 4 days, 7:00:00\n",
    "print(double)"
   ]
  },
  {
   "cell_type": "markdown",
   "id": "4ffbcf0c-dbba-4d59-8791-d4ddd3da8145",
   "metadata": {},
   "source": [
    "# datetime 생성/포맷팅/산술 코드 "
   ]
  },
  {
   "cell_type": "code",
   "execution_count": 3,
   "id": "6f0a8d13-6d94-48ea-83bb-1a8e00151234",
   "metadata": {},
   "outputs": [
    {
     "name": "stdout",
     "output_type": "stream",
     "text": [
      "[직접 생성] 2023-10-26 14:30:00 2023-10-26 14:30:00\n",
      "[ISO 파싱] 2023-10-26 2023-10-26 14:30:00\n",
      "[time ISO] 14:30:00.123456\n",
      "[포맷팅] 2023-10-26 14:30:00\n",
      "[파싱] 2024-09-30 08:15:00\n",
      "[산술] 날짜+7일: 2023-11-02 | datetime-90분: 2023-10-26 13:00:00\n",
      "[차이] days: 25 | total_seconds: 2179800\n",
      "[timedelta] 2 days, 3:30:00 | 일 단위: 2.1458333333333335\n",
      "[속성] year/month/day: 2023 10 26\n",
      "[속성] hour/minute/second: 14 30 0\n",
      "[요일] weekday(월=0): 3 | isoweekday(월=1): 4\n",
      "[replace] 연도만 변경: 2024-10-26 14:30:00\n"
     ]
    }
   ],
   "source": [
    "from datetime import date, time, datetime, timedelta\n",
    "\n",
    "# ---------------------------------------------------------------------\n",
    "# 1) 생성 (Constructor / ISO 파싱)\n",
    "# ---------------------------------------------------------------------\n",
    "\n",
    "# 1-1. 숫자 인수로 직접 생성\n",
    "d = date(2023, 10, 26)\n",
    "t = time(14, 30, 0)                   # 14:30:00\n",
    "dt = datetime(2023, 10, 26, 14, 30)   # 2023-10-26 14:30:00\n",
    "\n",
    "print(\"[직접 생성]\", d, t, dt)\n",
    "# [직접 생성] 2023-10-26 14:30:00 2023-10-26 14:30:00\n",
    "\n",
    "# 1-2. ISO 문자열 -> fromisoformat()\n",
    "d_iso = date.fromisoformat(\"2023-10-26\")             # 'YYYY-MM-DD'\n",
    "dt_iso = datetime.fromisoformat(\"2023-10-26 14:30:00\")  # 공백 또는 'T' 허용\n",
    "print(\"[ISO 파싱]\", d_iso, dt_iso)\n",
    "# [ISO 파싱] 2023-10-26 2023-10-26 14:30:00\n",
    "\n",
    "# time에도 fromisoformat 사용 가능\n",
    "t_iso = time.fromisoformat(\"14:30:00.123456\")\n",
    "print(\"[time ISO]\", t_iso)\n",
    "# [time ISO] 14:30:00.123456\n",
    "\n",
    "# ---------------------------------------------------------------------\n",
    "# 2) 포맷팅(strftime) / 파싱(strptime)\n",
    "# ---------------------------------------------------------------------\n",
    "\n",
    "# 2-1. datetime -> 문자열 (strftime)\n",
    "fmt = \"%Y-%m-%d %H:%M:%S\"\n",
    "s = dt.strftime(fmt)\n",
    "print(\"[포맷팅]\", s)\n",
    "# [포맷팅] 2023-10-26 14:30:00\n",
    "\n",
    "# 2-2. 문자열 -> datetime (strptime)\n",
    "s2 = \"2024-09-30 08:15:00\"\n",
    "dt_parsed = datetime.strptime(s2, fmt)\n",
    "print(\"[파싱]\", dt_parsed)\n",
    "# [파싱] 2024-09-30 08:15:00\n",
    "\n",
    "# 포맷 코드 예: %Y=연, %m=월, %d=일, %H=시(00-23), %M=분, %S=초\n",
    "\n",
    "# ---------------------------------------------------------------------\n",
    "# 3) 산술 연산 (timedelta)\n",
    "# ---------------------------------------------------------------------\n",
    "\n",
    "# 3-1. 더하기/빼기: date 혹은 datetime ± timedelta\n",
    "one_week = timedelta(days=7)\n",
    "d_plus_7 = d + one_week\n",
    "dt_minus_90m = dt - timedelta(minutes=90)\n",
    "print(\"[산술] 날짜+7일:\", d_plus_7, \"| datetime-90분:\", dt_minus_90m)\n",
    "# [산술] 날짜+7일: 2023-11-02 | datetime-90분: 2023-10-26 13:00:00\n",
    "\n",
    "# 3-2. 두 datetime의 차이 -> timedelta\n",
    "start = datetime(2023, 10, 1, 9, 0, 0)\n",
    "end   = datetime(2023, 10, 26, 14, 30, 0)\n",
    "diff = end - start\n",
    "print(\"[차이] days:\", diff.days, \"| total_seconds:\", int(diff.total_seconds()))\n",
    "# [차이] days: 25 | total_seconds: 2190600\n",
    "\n",
    "# 3-3. timedelta 연산/스케일링\n",
    "td = timedelta(days=2, hours=3, minutes=30)\n",
    "print(\"[timedelta]\", td, \"| 일 단위:\", td / timedelta(days=1))\n",
    "# [timedelta] 2 days, 3:30:00 | 일 단위: 2.1458333333333335\n",
    "\n",
    "# ---------------------------------------------------------------------\n",
    "# 4) (선택) 속성 접근/유틸\n",
    "# ---------------------------------------------------------------------\n",
    "\n",
    "print(\"[속성] year/month/day:\", d.year, d.month, d.day)\n",
    "print(\"[속성] hour/minute/second:\", t.hour, t.minute, t.second)\n",
    "print(\"[요일] weekday(월=0):\", dt.weekday(), \"| isoweekday(월=1):\", dt.isoweekday())\n",
    "# [속성] year/month/day: 2023 10 26\n",
    "# [속성] hour/minute/second: 14 30 0\n",
    "# [요일] weekday(월=0): 3 | isoweekday(월=1): 4\n",
    "\n",
    "# 4-1. replace로 일부만 교체(불변 객체이므로 새 객체 반환)\n",
    "dt_next_year_same_time = dt.replace(year=2024)\n",
    "print(\"[replace] 연도만 변경:\", dt_next_year_same_time)\n",
    "# [replace] 연도만 변경: 2024-10-26 14:30:00\n"
   ]
  }
 ],
 "metadata": {
  "kernelspec": {
   "display_name": "Python 3 (ipykernel)",
   "language": "python",
   "name": "python3"
  },
  "language_info": {
   "codemirror_mode": {
    "name": "ipython",
    "version": 3
   },
   "file_extension": ".py",
   "mimetype": "text/x-python",
   "name": "python",
   "nbconvert_exporter": "python",
   "pygments_lexer": "ipython3",
   "version": "3.11.13"
  }
 },
 "nbformat": 4,
 "nbformat_minor": 5
}
