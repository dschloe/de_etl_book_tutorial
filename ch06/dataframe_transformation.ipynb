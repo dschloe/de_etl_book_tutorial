{
 "cells": [
  {
   "cell_type": "markdown",
   "id": "f3155e3f-6654-4f3e-933f-0cf4db2a9b0c",
   "metadata": {},
   "source": [
    "# 기본 컬럼 생성, 삭제, 이름 변경"
   ]
  },
  {
   "cell_type": "code",
   "execution_count": 1,
   "id": "77ab0d63-6cbe-41b5-8597-885428445edd",
   "metadata": {},
   "outputs": [
    {
     "name": "stdout",
     "output_type": "stream",
     "text": [
      "   total_bill   tip  Gender smoker  day    time  tip_pct\n",
      "0       16.99  1.01  Female     No  Sun  Dinner      5.9\n",
      "1       10.34  1.66    Male     No  Sun  Dinner     16.1\n",
      "2       21.01  3.50    Male     No  Sun  Dinner     16.7\n"
     ]
    }
   ],
   "source": [
    "import seaborn as sns\n",
    "import pandas as pd\n",
    "\n",
    "# Seaborn의 tips 데이터셋을 불러옵니다.\n",
    "tips = sns.load_dataset('tips')\n",
    "\n",
    "# ① 새로운 컬럼 생성: 팁 비율 (팁 금액을 총 지불 금액으로 나눈 백분율)\n",
    "# 벡터화된 연산으로 모든 행에 대해 한 번에 계산합니다.\n",
    "tips['tip_pct'] = (tips['tip'] / tips['total_bill'] * 100).round(1)\n",
    "\n",
    "# ② 컬럼 이름 변경: 'sex' 컬럼을 'Gender'로 변경\n",
    "# inplace=True를 사용해 원본 DataFrame을 바로 수정합니다.\n",
    "tips.rename(columns={'sex': 'Gender'}, inplace=True)\n",
    "\n",
    "# ③ 컬럼 삭제: 'size' 컬럼 제거\n",
    "# inplace=True를 사용해 원본 DataFrame을 바로 수정합니다.\n",
    "tips.drop(columns=['size'], inplace=True)\n",
    "\n",
    "print(tips.head(3))"
   ]
  },
  {
   "cell_type": "markdown",
   "id": "e475af48-13f5-4b20-a1c7-70b42c60f15a",
   "metadata": {},
   "source": [
    "# 조건 기반 컬럼 생성 (조건부 값 할당)"
   ]
  },
  {
   "cell_type": "code",
   "execution_count": 3,
   "id": "d316f494-defa-4660-bce7-b3e82075775e",
   "metadata": {},
   "outputs": [
    {
     "name": "stdout",
     "output_type": "stream",
     "text": [
      "   total_bill   tip tip_size\n",
      "0       16.99  1.01    Small\n",
      "1       10.34  1.66    Small\n",
      "2       21.01  3.50    Large\n",
      "3       23.68  3.31    Large\n",
      "4       24.59  3.61    Large\n"
     ]
    }
   ],
   "source": [
    "import numpy as np\n",
    "import seaborn as sns\n",
    "\n",
    "tips = sns.load_dataset('tips')\n",
    "\n",
    "# tip이 3달러 이상이면 'Large', 아니면 'Small'로 분류하는 컬럼 생성\n",
    "tips['tip_size'] = np.where(tips['tip'] >= 3.0, 'Large', 'Small')\n",
    "\n",
    "print(tips[['total_bill', 'tip', 'tip_size']].head(5))"
   ]
  },
  {
   "cell_type": "markdown",
   "id": "a7f68582-c100-4a10-8882-70e4c54c1a8e",
   "metadata": {},
   "source": [
    "# 타입 변환 및 dtype 최적화 "
   ]
  },
  {
   "cell_type": "code",
   "execution_count": 4,
   "id": "be50b882-601e-43a6-9ada-84d216e44649",
   "metadata": {},
   "outputs": [
    {
     "name": "stdout",
     "output_type": "stream",
     "text": [
      "변환 전: object\n",
      "변환 후: category\n",
      "    age  age_int\n",
      "0  22.0       22\n",
      "1  38.0       38\n",
      "2  26.0       26\n",
      "3  35.0       35\n",
      "4  35.0       35\n",
      "5   NaN     <NA>\n"
     ]
    }
   ],
   "source": [
    "import pandas as pd\n",
    "import seaborn as sns\n",
    "\n",
    "titanic = sns.load_dataset('titanic')\n",
    "\n",
    "# (a) 'sex' 컬럼을 카테고리형으로 변환\n",
    "print(\"변환 전:\", titanic['sex'].dtype)\n",
    "titanic['sex'] = titanic['sex'].astype('category')\n",
    "print(\"변환 후:\", titanic['sex'].dtype)\n",
    "\n",
    "# (b) 'age' 컬럼을 반올림하여 결측치를 허용하는 정수형으로 변환\n",
    "titanic['age_int'] = titanic['age'].round().astype('Int64')\n",
    "print(titanic[['age', 'age_int']].head(6))"
   ]
  }
 ],
 "metadata": {
  "kernelspec": {
   "display_name": "Python 3 (ipykernel)",
   "language": "python",
   "name": "python3"
  },
  "language_info": {
   "codemirror_mode": {
    "name": "ipython",
    "version": 3
   },
   "file_extension": ".py",
   "mimetype": "text/x-python",
   "name": "python",
   "nbconvert_exporter": "python",
   "pygments_lexer": "ipython3",
   "version": "3.11.13"
  }
 },
 "nbformat": 4,
 "nbformat_minor": 5
}
