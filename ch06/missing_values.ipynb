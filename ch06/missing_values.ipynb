{
 "cells": [
  {
   "cell_type": "markdown",
   "id": "578ebd1a-fb59-4d07-baf6-c7bfc60b0198",
   "metadata": {},
   "source": [
    "# 결측치 처리 : 결측치 확인"
   ]
  },
  {
   "cell_type": "code",
   "execution_count": 1,
   "id": "e02e8849-ede7-437a-a072-e3d3d01c1dfc",
   "metadata": {},
   "outputs": [
    {
     "name": "stdout",
     "output_type": "stream",
     "text": [
      "[False False  True False False  True]\n"
     ]
    }
   ],
   "source": [
    "import numpy as np\n",
    "\n",
    "data = np.array([1, 2, np.nan, 4, 5, np.nan])\n",
    "is_nan_array = np.isnan(data)\n",
    "print(is_nan_array) # [False False  True False False  True]"
   ]
  },
  {
   "cell_type": "markdown",
   "id": "766d604a-8756-4bd8-89ae-bf4b9cc684b5",
   "metadata": {},
   "source": [
    "# 결측치 대체"
   ]
  },
  {
   "cell_type": "code",
   "execution_count": 2,
   "id": "fab3d169-3a52-499d-815a-56c7aead52f2",
   "metadata": {},
   "outputs": [
    {
     "name": "stdout",
     "output_type": "stream",
     "text": [
      "평균: 3.0\n",
      "[1. 2. 3. 4. 5. 3.]\n"
     ]
    }
   ],
   "source": [
    "# 평균 계산 (결측치를 제외하고)\n",
    "mean_value = np.nanmean(data)\n",
    "print(f\"평균: {mean_value}\") # 3.0\n",
    "\n",
    "# 결측치를 평균으로 대체\n",
    "data[np.isnan(data)] = mean_value\n",
    "print(data) # [1. 2. 3. 4. 5. 3.]"
   ]
  },
  {
   "cell_type": "markdown",
   "id": "53dbfe27-7c55-48f3-bd8a-810e8b7cf385",
   "metadata": {},
   "source": [
    "# 결측치 삭제 "
   ]
  },
  {
   "cell_type": "code",
   "execution_count": 3,
   "id": "08233998-0e7d-4d38-8a4d-7f2a83ed35ac",
   "metadata": {},
   "outputs": [
    {
     "name": "stdout",
     "output_type": "stream",
     "text": [
      "[1. 2. 4. 5.]\n"
     ]
    }
   ],
   "source": [
    "data = np.array([1, 2, np.nan, 4, 5, np.nan])\n",
    "cleaned_data = data[~np.isnan(data)]\n",
    "print(cleaned_data)"
   ]
  }
 ],
 "metadata": {
  "kernelspec": {
   "display_name": "Python 3 (ipykernel)",
   "language": "python",
   "name": "python3"
  },
  "language_info": {
   "codemirror_mode": {
    "name": "ipython",
    "version": 3
   },
   "file_extension": ".py",
   "mimetype": "text/x-python",
   "name": "python",
   "nbconvert_exporter": "python",
   "pygments_lexer": "ipython3",
   "version": "3.11.13"
  }
 },
 "nbformat": 4,
 "nbformat_minor": 5
}
