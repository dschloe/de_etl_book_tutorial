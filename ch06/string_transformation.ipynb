{
 "cells": [
  {
   "cell_type": "markdown",
   "id": "d26817bd",
   "metadata": {},
   "source": [
    "# test"
   ]
  }
 ],
 "metadata": {
  "language_info": {
   "name": "python"
  }
 },
 "nbformat": 4,
 "nbformat_minor": 5
}
