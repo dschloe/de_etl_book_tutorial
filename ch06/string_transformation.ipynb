{
 "cells": [
  {
   "cell_type": "markdown",
   "id": "d26817bd",
   "metadata": {},
   "source": [
    "# 공백 제거"
   ]
  },
  {
   "cell_type": "code",
   "execution_count": 1,
   "id": "5cd6ca06-9940-4a1c-a4e6-a55e1f329f0a",
   "metadata": {},
   "outputs": [
    {
     "name": "stdout",
     "output_type": "stream",
     "text": [
      "                     text       stripped_text\n",
      "0           hello world           hello world\n",
      "1    python programming    python programming\n",
      "2          data science          data science\n"
     ]
    }
   ],
   "source": [
    "import pandas as pd\n",
    "\n",
    "df = pd.DataFrame({'text': ['  hello world  ', '  python programming  ', '  data science  ']})\n",
    "df['stripped_text'] = df['text'].str.strip()\n",
    "print(df)"
   ]
  },
  {
   "cell_type": "markdown",
   "id": "d5d64cb5-d9dd-42e3-8c0b-049f5bdada8b",
   "metadata": {},
   "source": [
    "# 문자열 분리"
   ]
  },
  {
   "cell_type": "code",
   "execution_count": 3,
   "id": "c5604212-b750-42a0-8767-0b8576522ae6",
   "metadata": {},
   "outputs": [
    {
     "name": "stdout",
     "output_type": "stream",
     "text": [
      "           data        date category\n",
      "0  2023-10-27_A  2023-10-27        A\n",
      "1  2023-11-15_B  2023-11-15        B\n",
      "2  2023-12-01_C  2023-12-01        C\n"
     ]
    }
   ],
   "source": [
    "import pandas as pd\n",
    "\n",
    "df = pd.DataFrame({'data': ['2023-10-27_A', '2023-11-15_B', '2023-12-01_C']})\n",
    "df[['date', 'category']] = df['data'].str.split('_', expand=True)\n",
    "print(df)"
   ]
  },
  {
   "cell_type": "markdown",
   "id": "a265f9d5-7bae-46fd-ba74-1b0ab4770b91",
   "metadata": {},
   "source": [
    "# 문자열 대체"
   ]
  },
  {
   "cell_type": "code",
   "execution_count": 4,
   "id": "40d4f09c-0ce4-4231-a5db-616b53c8ee87",
   "metadata": {},
   "outputs": [
    {
     "name": "stdout",
     "output_type": "stream",
     "text": [
      "      product product_name\n",
      "0   apple_100    apple 100\n",
      "1  banana_200   banana 200\n",
      "2  orange_150   orange 150\n",
      "      product product_name product_name_only\n",
      "0   apple_100    apple 100             apple\n",
      "1  banana_200   banana 200            banana\n",
      "2  orange_150   orange 150            orange\n"
     ]
    }
   ],
   "source": [
    "import pandas as pd\n",
    "\n",
    "df = pd.DataFrame({'product': ['apple_100', 'banana_200', 'orange_150']})\n",
    "df['product_name'] = df['product'].str.replace('_', ' ')\n",
    "print(df)\n",
    "\n",
    "# 정규표현식을 이용해 숫자 제거\n",
    "df['product_name_only'] = df['product'].str.replace(r'_\\d+', '', regex=True)\n",
    "print(df)"
   ]
  },
  {
   "cell_type": "markdown",
   "id": "1098495d-a516-4cbc-8412-cae6df35ec81",
   "metadata": {},
   "source": [
    "# 문자열 연결"
   ]
  },
  {
   "cell_type": "code",
   "execution_count": 7,
   "id": "c28ab97b-45b0-4577-8b53-9fe5ea573ac0",
   "metadata": {},
   "outputs": [
    {
     "name": "stdout",
     "output_type": "stream",
     "text": [
      "  first_name last_name         greeting_cat\n",
      "0      James      Bond    Hello, James Bond\n",
      "1       Mary     Smith    Hello, Mary Smith\n",
      "2      Peter      None  Hello, Peter [이름없음]\n",
      "3       Jane       Doe      Hello, Jane Doe\n"
     ]
    }
   ],
   "source": [
    "import pandas as pd\n",
    "\n",
    "df = pd.DataFrame({\n",
    "    'first_name': ['James', 'Mary', 'Peter', 'Jane'],\n",
    "    'last_name': ['Bond', 'Smith', None, 'Doe']\n",
    "})\n",
    "\n",
    "# 'Hello, '를 먼저 붙인 후, 나머지 Series들을 리스트로 전달\n",
    "df['greeting_cat'] = (\n",
    "    'Hello, ' + df['first_name']\n",
    ").str.cat(df['last_name'], sep=' ', na_rep='[이름없음]')\n",
    "\n",
    "print(df)"
   ]
  }
 ],
 "metadata": {
  "kernelspec": {
   "display_name": "Python 3 (ipykernel)",
   "language": "python",
   "name": "python3"
  },
  "language_info": {
   "codemirror_mode": {
    "name": "ipython",
    "version": 3
   },
   "file_extension": ".py",
   "mimetype": "text/x-python",
   "name": "python",
   "nbconvert_exporter": "python",
   "pygments_lexer": "ipython3",
   "version": "3.11.13"
  }
 },
 "nbformat": 4,
 "nbformat_minor": 5
}
